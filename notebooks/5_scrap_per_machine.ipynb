{
 "cells": [
  {
   "cell_type": "code",
   "execution_count": 14,
   "id": "a61ca6f8",
   "metadata": {},
   "outputs": [],
   "source": [
    "import pandas as pd\n",
    "import numpy as np\n",
    "import matplotlib.pyplot as plt"
   ]
  },
  {
   "cell_type": "code",
   "execution_count": 15,
   "id": "224b5201",
   "metadata": {},
   "outputs": [
    {
     "name": "stdout",
     "output_type": "stream",
     "text": [
      " Volume in drive D is D\n",
      " Volume Serial Number is 02D3-2159\n",
      "\n",
      " Directory of D:\\Notas de Estudio\\Proyectos\\production_analysis__project\\production_analysis\\data\\processed\n",
      "\n",
      "02/06/2022  11:11 PM    <DIR>          .\n",
      "02/06/2022  11:11 PM    <DIR>          ..\n",
      "01/20/2022  06:23 PM                 0 .gitkeep\n",
      "01/01/2022  12:05 PM    <DIR>          .ipynb_checkpoints\n",
      "02/06/2022  11:11 PM                76 common list.txt\n",
      "02/06/2022  11:11 PM           330,645 data.csv\n",
      "02/06/2022  11:11 PM               648 machines_days_of_work.csv\n",
      "02/06/2022  11:11 PM           103,984 scrap per machine.png\n",
      "02/06/2022  11:11 PM            17,782 scrap_vs_production.pdf\n",
      "02/06/2022  11:11 PM            16,711 scrap_vs_total_scrap.pdf\n",
      "02/06/2022  11:11 PM            30,340 tendency_scrap_vs_production.pdf\n",
      "02/06/2022  11:11 PM            30,486 tendency_scrap_vs_total_scrap.pdf\n",
      "               9 File(s)        530,672 bytes\n",
      "               3 Dir(s)  223,127,322,624 bytes free\n"
     ]
    }
   ],
   "source": [
    "%ls"
   ]
  },
  {
   "cell_type": "code",
   "execution_count": 16,
   "id": "c2d3edc8",
   "metadata": {},
   "outputs": [
    {
     "name": "stdout",
     "output_type": "stream",
     "text": [
      "D:\\Notas de Estudio\\Proyectos\\production_analysis__project\\production_analysis\\data\\processed\n"
     ]
    }
   ],
   "source": [
    "%cd D:\\Notas de Estudio\\Proyectos\\production_analysis__project\\production_analysis\\data\\processed"
   ]
  },
  {
   "cell_type": "code",
   "execution_count": 17,
   "id": "f5001391",
   "metadata": {},
   "outputs": [
    {
     "name": "stdout",
     "output_type": "stream",
     "text": [
      " Volume in drive D is D\n",
      " Volume Serial Number is 02D3-2159\n",
      "\n",
      " Directory of D:\\Notas de Estudio\\Proyectos\\production_analysis__project\\production_analysis\\data\\processed\n",
      "\n",
      "02/06/2022  11:11 PM    <DIR>          .\n",
      "02/06/2022  11:11 PM    <DIR>          ..\n",
      "01/20/2022  06:23 PM                 0 .gitkeep\n",
      "01/01/2022  12:05 PM    <DIR>          .ipynb_checkpoints\n",
      "02/06/2022  11:11 PM                76 common list.txt\n",
      "02/06/2022  11:11 PM           330,645 data.csv\n",
      "02/06/2022  11:11 PM               648 machines_days_of_work.csv\n",
      "02/06/2022  11:11 PM           103,984 scrap per machine.png\n",
      "02/06/2022  11:11 PM            17,782 scrap_vs_production.pdf\n",
      "02/06/2022  11:11 PM            16,711 scrap_vs_total_scrap.pdf\n",
      "02/06/2022  11:11 PM            30,340 tendency_scrap_vs_production.pdf\n",
      "02/06/2022  11:11 PM            30,486 tendency_scrap_vs_total_scrap.pdf\n",
      "               9 File(s)        530,672 bytes\n",
      "               3 Dir(s)  223,127,322,624 bytes free\n"
     ]
    }
   ],
   "source": [
    "%ls"
   ]
  },
  {
   "cell_type": "code",
   "execution_count": 18,
   "id": "4be2ecba",
   "metadata": {},
   "outputs": [
    {
     "data": {
      "text/html": [
       "<div>\n",
       "<style scoped>\n",
       "    .dataframe tbody tr th:only-of-type {\n",
       "        vertical-align: middle;\n",
       "    }\n",
       "\n",
       "    .dataframe tbody tr th {\n",
       "        vertical-align: top;\n",
       "    }\n",
       "\n",
       "    .dataframe thead th {\n",
       "        text-align: right;\n",
       "    }\n",
       "</style>\n",
       "<table border=\"1\" class=\"dataframe\">\n",
       "  <thead>\n",
       "    <tr style=\"text-align: right;\">\n",
       "      <th></th>\n",
       "      <th>FECHA</th>\n",
       "      <th>TURNO</th>\n",
       "      <th>GRUPO</th>\n",
       "      <th>MÁQ.</th>\n",
       "      <th>CODIGO</th>\n",
       "      <th>PRODUCCION (PZAS)</th>\n",
       "      <th>TOTAL KG</th>\n",
       "      <th>SCRAP</th>\n",
       "      <th>DIA</th>\n",
       "      <th>NOMBRE_DIA</th>\n",
       "    </tr>\n",
       "  </thead>\n",
       "  <tbody>\n",
       "    <tr>\n",
       "      <th>0</th>\n",
       "      <td>2022-01-03</td>\n",
       "      <td>Mañana</td>\n",
       "      <td>A</td>\n",
       "      <td>EB G1</td>\n",
       "      <td>0</td>\n",
       "      <td>0</td>\n",
       "      <td>0.0</td>\n",
       "      <td>0.0</td>\n",
       "      <td>3</td>\n",
       "      <td>Monday</td>\n",
       "    </tr>\n",
       "    <tr>\n",
       "      <th>1</th>\n",
       "      <td>2022-01-03</td>\n",
       "      <td>Mañana</td>\n",
       "      <td>A</td>\n",
       "      <td>EB G2</td>\n",
       "      <td>0</td>\n",
       "      <td>0</td>\n",
       "      <td>0.0</td>\n",
       "      <td>0.0</td>\n",
       "      <td>3</td>\n",
       "      <td>Monday</td>\n",
       "    </tr>\n",
       "    <tr>\n",
       "      <th>2</th>\n",
       "      <td>2022-01-03</td>\n",
       "      <td>Mañana</td>\n",
       "      <td>A</td>\n",
       "      <td>EB G3</td>\n",
       "      <td>0</td>\n",
       "      <td>0</td>\n",
       "      <td>0.0</td>\n",
       "      <td>0.0</td>\n",
       "      <td>3</td>\n",
       "      <td>Monday</td>\n",
       "    </tr>\n",
       "    <tr>\n",
       "      <th>3</th>\n",
       "      <td>2022-01-03</td>\n",
       "      <td>Mañana</td>\n",
       "      <td>A</td>\n",
       "      <td>EB G4</td>\n",
       "      <td>0</td>\n",
       "      <td>0</td>\n",
       "      <td>0.0</td>\n",
       "      <td>0.0</td>\n",
       "      <td>3</td>\n",
       "      <td>Monday</td>\n",
       "    </tr>\n",
       "    <tr>\n",
       "      <th>4</th>\n",
       "      <td>2022-01-03</td>\n",
       "      <td>Mañana</td>\n",
       "      <td>A</td>\n",
       "      <td>EB-17</td>\n",
       "      <td>0</td>\n",
       "      <td>0</td>\n",
       "      <td>0.0</td>\n",
       "      <td>0.0</td>\n",
       "      <td>3</td>\n",
       "      <td>Monday</td>\n",
       "    </tr>\n",
       "  </tbody>\n",
       "</table>\n",
       "</div>"
      ],
      "text/plain": [
       "        FECHA   TURNO GRUPO   MÁQ. CODIGO  PRODUCCION (PZAS)  TOTAL KG  SCRAP  \\\n",
       "0  2022-01-03  Mañana     A  EB G1      0                  0       0.0    0.0   \n",
       "1  2022-01-03  Mañana     A  EB G2      0                  0       0.0    0.0   \n",
       "2  2022-01-03  Mañana     A  EB G3      0                  0       0.0    0.0   \n",
       "3  2022-01-03  Mañana     A  EB G4      0                  0       0.0    0.0   \n",
       "4  2022-01-03  Mañana     A  EB-17      0                  0       0.0    0.0   \n",
       "\n",
       "   DIA NOMBRE_DIA  \n",
       "0    3     Monday  \n",
       "1    3     Monday  \n",
       "2    3     Monday  \n",
       "3    3     Monday  \n",
       "4    3     Monday  "
      ]
     },
     "execution_count": 18,
     "metadata": {},
     "output_type": "execute_result"
    }
   ],
   "source": [
    "data = pd.read_csv(\"data.csv\")\n",
    "data.head(5)"
   ]
  },
  {
   "cell_type": "code",
   "execution_count": 19,
   "id": "6b6d8410",
   "metadata": {},
   "outputs": [
    {
     "data": {
      "text/html": [
       "<div>\n",
       "<style scoped>\n",
       "    .dataframe tbody tr th:only-of-type {\n",
       "        vertical-align: middle;\n",
       "    }\n",
       "\n",
       "    .dataframe tbody tr th {\n",
       "        vertical-align: top;\n",
       "    }\n",
       "\n",
       "    .dataframe thead th {\n",
       "        text-align: right;\n",
       "    }\n",
       "</style>\n",
       "<table border=\"1\" class=\"dataframe\">\n",
       "  <thead>\n",
       "    <tr style=\"text-align: right;\">\n",
       "      <th></th>\n",
       "      <th>MÁQ.</th>\n",
       "      <th>TOTAL KG</th>\n",
       "      <th>SCRAP</th>\n",
       "    </tr>\n",
       "  </thead>\n",
       "  <tbody>\n",
       "    <tr>\n",
       "      <th>0</th>\n",
       "      <td>EB G1</td>\n",
       "      <td>0.0</td>\n",
       "      <td>0.0</td>\n",
       "    </tr>\n",
       "    <tr>\n",
       "      <th>1</th>\n",
       "      <td>EB G2</td>\n",
       "      <td>0.0</td>\n",
       "      <td>0.0</td>\n",
       "    </tr>\n",
       "    <tr>\n",
       "      <th>2</th>\n",
       "      <td>EB G3</td>\n",
       "      <td>0.0</td>\n",
       "      <td>0.0</td>\n",
       "    </tr>\n",
       "    <tr>\n",
       "      <th>3</th>\n",
       "      <td>EB G4</td>\n",
       "      <td>0.0</td>\n",
       "      <td>0.0</td>\n",
       "    </tr>\n",
       "    <tr>\n",
       "      <th>4</th>\n",
       "      <td>EB-17</td>\n",
       "      <td>0.0</td>\n",
       "      <td>0.0</td>\n",
       "    </tr>\n",
       "  </tbody>\n",
       "</table>\n",
       "</div>"
      ],
      "text/plain": [
       "    MÁQ.  TOTAL KG  SCRAP\n",
       "0  EB G1       0.0    0.0\n",
       "1  EB G2       0.0    0.0\n",
       "2  EB G3       0.0    0.0\n",
       "3  EB G4       0.0    0.0\n",
       "4  EB-17       0.0    0.0"
      ]
     },
     "execution_count": 19,
     "metadata": {},
     "output_type": "execute_result"
    }
   ],
   "source": [
    "data.drop(['FECHA', 'TURNO', 'GRUPO', 'CODIGO', 'PRODUCCION (PZAS)', 'DIA', 'NOMBRE_DIA'], inplace = True, axis = 1)\n",
    "data.head(5)"
   ]
  },
  {
   "cell_type": "code",
   "execution_count": 20,
   "id": "5a78fc46",
   "metadata": {},
   "outputs": [
    {
     "data": {
      "text/html": [
       "<div>\n",
       "<style scoped>\n",
       "    .dataframe tbody tr th:only-of-type {\n",
       "        vertical-align: middle;\n",
       "    }\n",
       "\n",
       "    .dataframe tbody tr th {\n",
       "        vertical-align: top;\n",
       "    }\n",
       "\n",
       "    .dataframe thead th {\n",
       "        text-align: right;\n",
       "    }\n",
       "</style>\n",
       "<table border=\"1\" class=\"dataframe\">\n",
       "  <thead>\n",
       "    <tr style=\"text-align: right;\">\n",
       "      <th></th>\n",
       "      <th>TOTAL KG</th>\n",
       "      <th>SCRAP</th>\n",
       "    </tr>\n",
       "    <tr>\n",
       "      <th>MÁQ.</th>\n",
       "      <th></th>\n",
       "      <th></th>\n",
       "    </tr>\n",
       "  </thead>\n",
       "  <tbody>\n",
       "    <tr>\n",
       "      <th>EB 120</th>\n",
       "      <td>27474.398</td>\n",
       "      <td>2207.90</td>\n",
       "    </tr>\n",
       "    <tr>\n",
       "      <th>EB 121</th>\n",
       "      <td>196686.935</td>\n",
       "      <td>4667.20</td>\n",
       "    </tr>\n",
       "    <tr>\n",
       "      <th>EB G1</th>\n",
       "      <td>8089.308</td>\n",
       "      <td>608.15</td>\n",
       "    </tr>\n",
       "    <tr>\n",
       "      <th>EB G2</th>\n",
       "      <td>16388.185</td>\n",
       "      <td>1485.21</td>\n",
       "    </tr>\n",
       "    <tr>\n",
       "      <th>EB G3</th>\n",
       "      <td>9600.724</td>\n",
       "      <td>1062.65</td>\n",
       "    </tr>\n",
       "  </tbody>\n",
       "</table>\n",
       "</div>"
      ],
      "text/plain": [
       "          TOTAL KG    SCRAP\n",
       "MÁQ.                       \n",
       "EB 120   27474.398  2207.90\n",
       "EB 121  196686.935  4667.20\n",
       "EB G1     8089.308   608.15\n",
       "EB G2    16388.185  1485.21\n",
       "EB G3     9600.724  1062.65"
      ]
     },
     "execution_count": 20,
     "metadata": {},
     "output_type": "execute_result"
    }
   ],
   "source": [
    "data = data.groupby('MÁQ.').sum()\n",
    "data.head(5)"
   ]
  },
  {
   "cell_type": "code",
   "execution_count": 21,
   "id": "246bcc6a",
   "metadata": {},
   "outputs": [
    {
     "data": {
      "text/plain": [
       "62"
      ]
     },
     "execution_count": 21,
     "metadata": {},
     "output_type": "execute_result"
    }
   ],
   "source": [
    "len(data.index.values)"
   ]
  },
  {
   "cell_type": "code",
   "execution_count": 22,
   "id": "c0160a26",
   "metadata": {},
   "outputs": [
    {
     "data": {
      "text/html": [
       "<div>\n",
       "<style scoped>\n",
       "    .dataframe tbody tr th:only-of-type {\n",
       "        vertical-align: middle;\n",
       "    }\n",
       "\n",
       "    .dataframe tbody tr th {\n",
       "        vertical-align: top;\n",
       "    }\n",
       "\n",
       "    .dataframe thead th {\n",
       "        text-align: right;\n",
       "    }\n",
       "</style>\n",
       "<table border=\"1\" class=\"dataframe\">\n",
       "  <thead>\n",
       "    <tr style=\"text-align: right;\">\n",
       "      <th></th>\n",
       "      <th>TOTAL KG</th>\n",
       "      <th>SCRAP</th>\n",
       "      <th>PORCENTAJE</th>\n",
       "    </tr>\n",
       "    <tr>\n",
       "      <th>MÁQ.</th>\n",
       "      <th></th>\n",
       "      <th></th>\n",
       "      <th></th>\n",
       "    </tr>\n",
       "  </thead>\n",
       "  <tbody>\n",
       "    <tr>\n",
       "      <th>EB 120</th>\n",
       "      <td>27474.398</td>\n",
       "      <td>2207.90</td>\n",
       "      <td>7.438440</td>\n",
       "    </tr>\n",
       "    <tr>\n",
       "      <th>EB 121</th>\n",
       "      <td>196686.935</td>\n",
       "      <td>4667.20</td>\n",
       "      <td>2.317906</td>\n",
       "    </tr>\n",
       "    <tr>\n",
       "      <th>EB G1</th>\n",
       "      <td>8089.308</td>\n",
       "      <td>608.15</td>\n",
       "      <td>6.992273</td>\n",
       "    </tr>\n",
       "    <tr>\n",
       "      <th>EB G2</th>\n",
       "      <td>16388.185</td>\n",
       "      <td>1485.21</td>\n",
       "      <td>8.309613</td>\n",
       "    </tr>\n",
       "    <tr>\n",
       "      <th>EB G3</th>\n",
       "      <td>9600.724</td>\n",
       "      <td>1062.65</td>\n",
       "      <td>9.965420</td>\n",
       "    </tr>\n",
       "  </tbody>\n",
       "</table>\n",
       "</div>"
      ],
      "text/plain": [
       "          TOTAL KG    SCRAP  PORCENTAJE\n",
       "MÁQ.                                   \n",
       "EB 120   27474.398  2207.90    7.438440\n",
       "EB 121  196686.935  4667.20    2.317906\n",
       "EB G1     8089.308   608.15    6.992273\n",
       "EB G2    16388.185  1485.21    8.309613\n",
       "EB G3     9600.724  1062.65    9.965420"
      ]
     },
     "execution_count": 22,
     "metadata": {},
     "output_type": "execute_result"
    }
   ],
   "source": [
    "data['PORCENTAJE'] = data['SCRAP']/(data['SCRAP']+data['TOTAL KG'])*100\n",
    "data.head(5)"
   ]
  },
  {
   "cell_type": "code",
   "execution_count": 23,
   "id": "80e3af2a",
   "metadata": {},
   "outputs": [
    {
     "data": {
      "text/html": [
       "<div>\n",
       "<style scoped>\n",
       "    .dataframe tbody tr th:only-of-type {\n",
       "        vertical-align: middle;\n",
       "    }\n",
       "\n",
       "    .dataframe tbody tr th {\n",
       "        vertical-align: top;\n",
       "    }\n",
       "\n",
       "    .dataframe thead th {\n",
       "        text-align: right;\n",
       "    }\n",
       "</style>\n",
       "<table border=\"1\" class=\"dataframe\">\n",
       "  <thead>\n",
       "    <tr style=\"text-align: right;\">\n",
       "      <th></th>\n",
       "      <th>TOTAL KG</th>\n",
       "      <th>SCRAP</th>\n",
       "      <th>PORCENTAJE</th>\n",
       "    </tr>\n",
       "    <tr>\n",
       "      <th>MÁQ.</th>\n",
       "      <th></th>\n",
       "      <th></th>\n",
       "      <th></th>\n",
       "    </tr>\n",
       "  </thead>\n",
       "  <tbody>\n",
       "    <tr>\n",
       "      <th>EB-105</th>\n",
       "      <td>4138.907</td>\n",
       "      <td>87.89</td>\n",
       "      <td>2.079352</td>\n",
       "    </tr>\n",
       "    <tr>\n",
       "      <th>EB-17</th>\n",
       "      <td>59381.760</td>\n",
       "      <td>1359.25</td>\n",
       "      <td>2.237780</td>\n",
       "    </tr>\n",
       "    <tr>\n",
       "      <th>EB 121</th>\n",
       "      <td>196686.935</td>\n",
       "      <td>4667.20</td>\n",
       "      <td>2.317906</td>\n",
       "    </tr>\n",
       "    <tr>\n",
       "      <th>EB-050</th>\n",
       "      <td>5724.954</td>\n",
       "      <td>151.70</td>\n",
       "      <td>2.581401</td>\n",
       "    </tr>\n",
       "    <tr>\n",
       "      <th>EB-036</th>\n",
       "      <td>5697.268</td>\n",
       "      <td>177.45</td>\n",
       "      <td>3.020571</td>\n",
       "    </tr>\n",
       "    <tr>\n",
       "      <th>...</th>\n",
       "      <td>...</td>\n",
       "      <td>...</td>\n",
       "      <td>...</td>\n",
       "    </tr>\n",
       "    <tr>\n",
       "      <th>EB-112</th>\n",
       "      <td>0.000</td>\n",
       "      <td>0.00</td>\n",
       "      <td>NaN</td>\n",
       "    </tr>\n",
       "    <tr>\n",
       "      <th>EB-114</th>\n",
       "      <td>0.000</td>\n",
       "      <td>0.00</td>\n",
       "      <td>NaN</td>\n",
       "    </tr>\n",
       "    <tr>\n",
       "      <th>EB-115</th>\n",
       "      <td>0.000</td>\n",
       "      <td>0.00</td>\n",
       "      <td>NaN</td>\n",
       "    </tr>\n",
       "    <tr>\n",
       "      <th>EB-116</th>\n",
       "      <td>0.000</td>\n",
       "      <td>0.00</td>\n",
       "      <td>NaN</td>\n",
       "    </tr>\n",
       "    <tr>\n",
       "      <th>EB-18</th>\n",
       "      <td>0.000</td>\n",
       "      <td>0.00</td>\n",
       "      <td>NaN</td>\n",
       "    </tr>\n",
       "  </tbody>\n",
       "</table>\n",
       "<p>62 rows × 3 columns</p>\n",
       "</div>"
      ],
      "text/plain": [
       "          TOTAL KG    SCRAP  PORCENTAJE\n",
       "MÁQ.                                   \n",
       "EB-105    4138.907    87.89    2.079352\n",
       "EB-17    59381.760  1359.25    2.237780\n",
       "EB 121  196686.935  4667.20    2.317906\n",
       "EB-050    5724.954   151.70    2.581401\n",
       "EB-036    5697.268   177.45    3.020571\n",
       "...            ...      ...         ...\n",
       "EB-112       0.000     0.00         NaN\n",
       "EB-114       0.000     0.00         NaN\n",
       "EB-115       0.000     0.00         NaN\n",
       "EB-116       0.000     0.00         NaN\n",
       "EB-18        0.000     0.00         NaN\n",
       "\n",
       "[62 rows x 3 columns]"
      ]
     },
     "execution_count": 23,
     "metadata": {},
     "output_type": "execute_result"
    }
   ],
   "source": [
    "data.sort_values(by = 'PORCENTAJE', ascending = True) # just to check if there is a strange value\n"
   ]
  },
  {
   "cell_type": "code",
   "execution_count": 24,
   "id": "15c43ea0",
   "metadata": {},
   "outputs": [
    {
     "data": {
      "text/html": [
       "<div>\n",
       "<style scoped>\n",
       "    .dataframe tbody tr th:only-of-type {\n",
       "        vertical-align: middle;\n",
       "    }\n",
       "\n",
       "    .dataframe tbody tr th {\n",
       "        vertical-align: top;\n",
       "    }\n",
       "\n",
       "    .dataframe thead th {\n",
       "        text-align: right;\n",
       "    }\n",
       "</style>\n",
       "<table border=\"1\" class=\"dataframe\">\n",
       "  <thead>\n",
       "    <tr style=\"text-align: right;\">\n",
       "      <th></th>\n",
       "      <th>TOTAL KG</th>\n",
       "      <th>SCRAP</th>\n",
       "      <th>PORCENTAJE</th>\n",
       "    </tr>\n",
       "    <tr>\n",
       "      <th>MÁQ.</th>\n",
       "      <th></th>\n",
       "      <th></th>\n",
       "      <th></th>\n",
       "    </tr>\n",
       "  </thead>\n",
       "  <tbody>\n",
       "    <tr>\n",
       "      <th>EB-105</th>\n",
       "      <td>4138.907</td>\n",
       "      <td>87.890</td>\n",
       "      <td>2.079352</td>\n",
       "    </tr>\n",
       "    <tr>\n",
       "      <th>EB-17</th>\n",
       "      <td>59381.760</td>\n",
       "      <td>1359.250</td>\n",
       "      <td>2.237780</td>\n",
       "    </tr>\n",
       "    <tr>\n",
       "      <th>EB 121</th>\n",
       "      <td>196686.935</td>\n",
       "      <td>4667.200</td>\n",
       "      <td>2.317906</td>\n",
       "    </tr>\n",
       "    <tr>\n",
       "      <th>EB-050</th>\n",
       "      <td>5724.954</td>\n",
       "      <td>151.700</td>\n",
       "      <td>2.581401</td>\n",
       "    </tr>\n",
       "    <tr>\n",
       "      <th>EB-036</th>\n",
       "      <td>5697.268</td>\n",
       "      <td>177.450</td>\n",
       "      <td>3.020571</td>\n",
       "    </tr>\n",
       "    <tr>\n",
       "      <th>EB-053</th>\n",
       "      <td>23369.965</td>\n",
       "      <td>776.550</td>\n",
       "      <td>3.215992</td>\n",
       "    </tr>\n",
       "    <tr>\n",
       "      <th>EB-124</th>\n",
       "      <td>117087.960</td>\n",
       "      <td>4223.000</td>\n",
       "      <td>3.481136</td>\n",
       "    </tr>\n",
       "    <tr>\n",
       "      <th>EB-051</th>\n",
       "      <td>5797.150</td>\n",
       "      <td>224.300</td>\n",
       "      <td>3.725016</td>\n",
       "    </tr>\n",
       "    <tr>\n",
       "      <th>EB-102</th>\n",
       "      <td>4080.531</td>\n",
       "      <td>159.170</td>\n",
       "      <td>3.754274</td>\n",
       "    </tr>\n",
       "    <tr>\n",
       "      <th>EB-052</th>\n",
       "      <td>5379.244</td>\n",
       "      <td>226.550</td>\n",
       "      <td>4.041354</td>\n",
       "    </tr>\n",
       "    <tr>\n",
       "      <th>EB-118</th>\n",
       "      <td>21998.477</td>\n",
       "      <td>952.720</td>\n",
       "      <td>4.151069</td>\n",
       "    </tr>\n",
       "    <tr>\n",
       "      <th>EB-091</th>\n",
       "      <td>4501.424</td>\n",
       "      <td>202.400</td>\n",
       "      <td>4.302882</td>\n",
       "    </tr>\n",
       "    <tr>\n",
       "      <th>EB-032</th>\n",
       "      <td>5182.624</td>\n",
       "      <td>235.550</td>\n",
       "      <td>4.347406</td>\n",
       "    </tr>\n",
       "    <tr>\n",
       "      <th>EB-117</th>\n",
       "      <td>22677.460</td>\n",
       "      <td>1182.650</td>\n",
       "      <td>4.956599</td>\n",
       "    </tr>\n",
       "    <tr>\n",
       "      <th>EB-090</th>\n",
       "      <td>4436.396</td>\n",
       "      <td>242.850</td>\n",
       "      <td>5.189939</td>\n",
       "    </tr>\n",
       "    <tr>\n",
       "      <th>EB-119</th>\n",
       "      <td>24347.998</td>\n",
       "      <td>1512.990</td>\n",
       "      <td>5.850473</td>\n",
       "    </tr>\n",
       "    <tr>\n",
       "      <th>EB-106</th>\n",
       "      <td>4920.087</td>\n",
       "      <td>325.300</td>\n",
       "      <td>6.201640</td>\n",
       "    </tr>\n",
       "    <tr>\n",
       "      <th>EB-123</th>\n",
       "      <td>8230.772</td>\n",
       "      <td>546.800</td>\n",
       "      <td>6.229513</td>\n",
       "    </tr>\n",
       "    <tr>\n",
       "      <th>EB-074</th>\n",
       "      <td>7928.980</td>\n",
       "      <td>561.200</td>\n",
       "      <td>6.609989</td>\n",
       "    </tr>\n",
       "    <tr>\n",
       "      <th>EB-092</th>\n",
       "      <td>2324.710</td>\n",
       "      <td>165.700</td>\n",
       "      <td>6.653523</td>\n",
       "    </tr>\n",
       "    <tr>\n",
       "      <th>EB-108</th>\n",
       "      <td>4961.475</td>\n",
       "      <td>360.750</td>\n",
       "      <td>6.778180</td>\n",
       "    </tr>\n",
       "    <tr>\n",
       "      <th>EB G1</th>\n",
       "      <td>8089.308</td>\n",
       "      <td>608.150</td>\n",
       "      <td>6.992273</td>\n",
       "    </tr>\n",
       "    <tr>\n",
       "      <th>EB-125</th>\n",
       "      <td>134001.712</td>\n",
       "      <td>10374.450</td>\n",
       "      <td>7.185708</td>\n",
       "    </tr>\n",
       "    <tr>\n",
       "      <th>EB-107</th>\n",
       "      <td>4960.273</td>\n",
       "      <td>388.650</td>\n",
       "      <td>7.265949</td>\n",
       "    </tr>\n",
       "    <tr>\n",
       "      <th>EB 120</th>\n",
       "      <td>27474.398</td>\n",
       "      <td>2207.900</td>\n",
       "      <td>7.438440</td>\n",
       "    </tr>\n",
       "    <tr>\n",
       "      <th>EB-122</th>\n",
       "      <td>16829.602</td>\n",
       "      <td>1466.100</td>\n",
       "      <td>8.013357</td>\n",
       "    </tr>\n",
       "    <tr>\n",
       "      <th>EB-099</th>\n",
       "      <td>3949.119</td>\n",
       "      <td>354.710</td>\n",
       "      <td>8.241731</td>\n",
       "    </tr>\n",
       "    <tr>\n",
       "      <th>EB G2</th>\n",
       "      <td>16388.185</td>\n",
       "      <td>1485.210</td>\n",
       "      <td>8.309613</td>\n",
       "    </tr>\n",
       "    <tr>\n",
       "      <th>EB-101</th>\n",
       "      <td>3032.072</td>\n",
       "      <td>286.200</td>\n",
       "      <td>8.624971</td>\n",
       "    </tr>\n",
       "    <tr>\n",
       "      <th>EB-103</th>\n",
       "      <td>4661.416</td>\n",
       "      <td>464.600</td>\n",
       "      <td>9.063569</td>\n",
       "    </tr>\n",
       "    <tr>\n",
       "      <th>EB G3</th>\n",
       "      <td>9600.724</td>\n",
       "      <td>1062.650</td>\n",
       "      <td>9.965420</td>\n",
       "    </tr>\n",
       "    <tr>\n",
       "      <th>EB-075</th>\n",
       "      <td>3913.840</td>\n",
       "      <td>433.350</td>\n",
       "      <td>9.968508</td>\n",
       "    </tr>\n",
       "    <tr>\n",
       "      <th>EB G4</th>\n",
       "      <td>13153.622</td>\n",
       "      <td>1488.145</td>\n",
       "      <td>10.163698</td>\n",
       "    </tr>\n",
       "    <tr>\n",
       "      <th>EB-104</th>\n",
       "      <td>4428.084</td>\n",
       "      <td>503.840</td>\n",
       "      <td>10.215891</td>\n",
       "    </tr>\n",
       "    <tr>\n",
       "      <th>EB-029</th>\n",
       "      <td>1514.266</td>\n",
       "      <td>179.100</td>\n",
       "      <td>10.576568</td>\n",
       "    </tr>\n",
       "    <tr>\n",
       "      <th>EB-070</th>\n",
       "      <td>19263.987</td>\n",
       "      <td>2321.850</td>\n",
       "      <td>10.756358</td>\n",
       "    </tr>\n",
       "  </tbody>\n",
       "</table>\n",
       "</div>"
      ],
      "text/plain": [
       "          TOTAL KG      SCRAP  PORCENTAJE\n",
       "MÁQ.                                     \n",
       "EB-105    4138.907     87.890    2.079352\n",
       "EB-17    59381.760   1359.250    2.237780\n",
       "EB 121  196686.935   4667.200    2.317906\n",
       "EB-050    5724.954    151.700    2.581401\n",
       "EB-036    5697.268    177.450    3.020571\n",
       "EB-053   23369.965    776.550    3.215992\n",
       "EB-124  117087.960   4223.000    3.481136\n",
       "EB-051    5797.150    224.300    3.725016\n",
       "EB-102    4080.531    159.170    3.754274\n",
       "EB-052    5379.244    226.550    4.041354\n",
       "EB-118   21998.477    952.720    4.151069\n",
       "EB-091    4501.424    202.400    4.302882\n",
       "EB-032    5182.624    235.550    4.347406\n",
       "EB-117   22677.460   1182.650    4.956599\n",
       "EB-090    4436.396    242.850    5.189939\n",
       "EB-119   24347.998   1512.990    5.850473\n",
       "EB-106    4920.087    325.300    6.201640\n",
       "EB-123    8230.772    546.800    6.229513\n",
       "EB-074    7928.980    561.200    6.609989\n",
       "EB-092    2324.710    165.700    6.653523\n",
       "EB-108    4961.475    360.750    6.778180\n",
       "EB G1     8089.308    608.150    6.992273\n",
       "EB-125  134001.712  10374.450    7.185708\n",
       "EB-107    4960.273    388.650    7.265949\n",
       "EB 120   27474.398   2207.900    7.438440\n",
       "EB-122   16829.602   1466.100    8.013357\n",
       "EB-099    3949.119    354.710    8.241731\n",
       "EB G2    16388.185   1485.210    8.309613\n",
       "EB-101    3032.072    286.200    8.624971\n",
       "EB-103    4661.416    464.600    9.063569\n",
       "EB G3     9600.724   1062.650    9.965420\n",
       "EB-075    3913.840    433.350    9.968508\n",
       "EB G4    13153.622   1488.145   10.163698\n",
       "EB-104    4428.084    503.840   10.215891\n",
       "EB-029    1514.266    179.100   10.576568\n",
       "EB-070   19263.987   2321.850   10.756358"
      ]
     },
     "execution_count": 24,
     "metadata": {},
     "output_type": "execute_result"
    }
   ],
   "source": [
    "#removing machines with scrap = 0\n",
    "\n",
    "data = data.loc[data['SCRAP']>0]\n",
    "data.sort_values(by = 'PORCENTAJE', ascending = True, inplace = True)\n",
    "data"
   ]
  },
  {
   "cell_type": "code",
   "execution_count": 25,
   "id": "036dc386",
   "metadata": {},
   "outputs": [
    {
     "data": {
      "text/plain": [
       "36"
      ]
     },
     "execution_count": 25,
     "metadata": {},
     "output_type": "execute_result"
    }
   ],
   "source": [
    "len(data.index.values)"
   ]
  },
  {
   "cell_type": "code",
   "execution_count": 26,
   "id": "5b8eaffc",
   "metadata": {
    "scrolled": true
   },
   "outputs": [
    {
     "data": {
      "text/plain": [
       "array(['EB-105', 'EB-17', 'EB 121', 'EB-050', 'EB-036', 'EB-053',\n",
       "       'EB-124', 'EB-051', 'EB-102', 'EB-052', 'EB-118', 'EB-091',\n",
       "       'EB-032', 'EB-117', 'EB-090', 'EB-119', 'EB-106', 'EB-123',\n",
       "       'EB-074', 'EB-092', 'EB-108', 'EB G1', 'EB-125', 'EB-107',\n",
       "       'EB 120', 'EB-122', 'EB-099', 'EB G2', 'EB-101', 'EB-103', 'EB G3',\n",
       "       'EB-075', 'EB G4', 'EB-104', 'EB-029', 'EB-070'], dtype=object)"
      ]
     },
     "execution_count": 26,
     "metadata": {},
     "output_type": "execute_result"
    }
   ],
   "source": [
    "machines = data.index.values\n",
    "machines"
   ]
  },
  {
   "cell_type": "code",
   "execution_count": 27,
   "id": "b28a3c40",
   "metadata": {},
   "outputs": [
    {
     "name": "stdout",
     "output_type": "stream",
     "text": [
      "3\n"
     ]
    }
   ],
   "source": [
    "#number of charts\n",
    "n = 1\n",
    "mac = len(machines)\n",
    "while mac>15:\n",
    "    mac = mac -15\n",
    "    n=n+1\n",
    "print(n)\n",
    "    "
   ]
  },
  {
   "cell_type": "code",
   "execution_count": 28,
   "id": "164bb1ad",
   "metadata": {},
   "outputs": [
    {
     "data": {
      "text/plain": [
       "array(['EB-105', 'EB-17', 'EB 121', 'EB-050', 'EB-036', 'EB-053',\n",
       "       'EB-124', 'EB-051', 'EB-102', 'EB-052', 'EB-118', 'EB-091',\n",
       "       'EB-032', 'EB-117', 'EB-090'], dtype=object)"
      ]
     },
     "execution_count": 28,
     "metadata": {},
     "output_type": "execute_result"
    }
   ],
   "source": [
    "machines[0:15]"
   ]
  },
  {
   "cell_type": "code",
   "execution_count": 29,
   "id": "1058a13e",
   "metadata": {},
   "outputs": [
    {
     "data": {
      "text/plain": [
       "MÁQ.\n",
       "EB-105    2.079352\n",
       "EB-17     2.237780\n",
       "EB 121    2.317906\n",
       "EB-050    2.581401\n",
       "EB-036    3.020571\n",
       "EB-053    3.215992\n",
       "EB-124    3.481136\n",
       "EB-051    3.725016\n",
       "EB-102    3.754274\n",
       "EB-052    4.041354\n",
       "EB-118    4.151069\n",
       "EB-091    4.302882\n",
       "EB-032    4.347406\n",
       "EB-117    4.956599\n",
       "EB-090    5.189939\n",
       "Name: PORCENTAJE, dtype: float64"
      ]
     },
     "execution_count": 29,
     "metadata": {},
     "output_type": "execute_result"
    }
   ],
   "source": [
    "data[\"PORCENTAJE\"].iloc[0:15]"
   ]
  },
  {
   "cell_type": "code",
   "execution_count": 32,
   "id": "b78b0f2e",
   "metadata": {},
   "outputs": [
    {
     "data": {
      "image/png": "[encoded data removed]",
      "text/plain": [
       "<Figure size 1080x720 with 1 Axes>"
      ]
     },
     "metadata": {
      "needs_background": "light"
     },
     "output_type": "display_data"
    }
   ],
   "source": [
    "#Example of one chart\n",
    "fig, axs = plt.subplots(figsize = [15,10] )\n",
    "x = machines[0:15]\n",
    "y = data[\"PORCENTAJE\"].iloc[0:15]\n",
    "bars = axs.bar(x, y, color = 'indianred', alpha = 1 ,linewidth = 0.2)\n",
    "axs.set_xlabel('Máquinas')\n",
    "axs.set_ylabel('Scrap')\n",
    "axs.set_title('Porcentaje de scrap por máquina')\n",
    "axs.bar_label(bars, label_type = \"edge\", fmt='%0.1f')\n",
    "#plt.show()\n",
    "plt.savefig('scrap per machine_b')"
   ]
  },
  {
   "cell_type": "code",
   "execution_count": 31,
   "id": "fb7509bf",
   "metadata": {},
   "outputs": [
    {
     "data": {
      "image/png": "[encoded data removed]",
      "text/plain": [
       "<Figure size 1440x2880 with 3 Axes>"
      ]
     },
     "metadata": {
      "needs_background": "light"
     },
     "output_type": "display_data"
    }
   ],
   "source": [
    "color = ['indianred', 'darkolivegreen','steelblue', 'saddlebrown']\n",
    "fig = plt.subplots(figsize = [20,40],constrained_layout=True)\n",
    "\n",
    "initial_value = 0 \n",
    "last_value = 15\n",
    "for i in range(n):\n",
    "    plt.subplot(4,1,i+1)\n",
    "    x = machines[initial_value:last_value]\n",
    "    y = data[\"PORCENTAJE\"].iloc[initial_value:last_value]\n",
    "    bars = plt.bar(x, y, color = color[i], alpha = 1, linewidth = 0.2)\n",
    "    plt.xlabel('Máquinas')\n",
    "    plt.ylabel('Scrap')\n",
    "    plt.title('Porcentaje de scrap por máquina')\n",
    "    plt.bar_label(bars, label_type = \"edge\", fmt='%0.1f')\n",
    "    plt.minorticks_on()\n",
    " \n",
    "    \n",
    " \n",
    "    initial_value = initial_value + 15\n",
    "    last_value = last_value +15\n",
    "\n",
    "        \n",
    "#plt.show()\n",
    "plt.savefig('scrap per machine')\n",
    "    "
   ]
  },
  {
   "cell_type": "markdown",
   "id": "7bc05fe1",
   "metadata": {},
   "source": [
    "* Creating one graph per group"
   ]
  },
  {
   "cell_type": "code",
   "execution_count": 33,
   "id": "74294f1a",
   "metadata": {
    "scrolled": true
   },
   "outputs": [
    {
     "name": "stdout",
     "output_type": "stream",
     "text": [
      "36\n"
     ]
    }
   ],
   "source": [
    "machine_number = len(data.index.values)\n",
    "print(machine_number)"
   ]
  },
  {
   "cell_type": "code",
   "execution_count": 39,
   "id": "437a62b9",
   "metadata": {},
   "outputs": [
    {
     "data": {
      "image/png": "[encoded data removed]",
      "text/plain": [
       "<Figure size 1080x720 with 1 Axes>"
      ]
     },
     "metadata": {
      "needs_background": "light"
     },
     "output_type": "display_data"
    },
    {
     "data": {
      "image/png": "[encoded data removed]",
      "text/plain": [
       "<Figure size 1080x720 with 1 Axes>"
      ]
     },
     "metadata": {
      "needs_background": "light"
     },
     "output_type": "display_data"
    },
    {
     "data": {
      "image/png": "[encoded data removed]",
      "text/plain": [
       "<Figure size 1080x720 with 1 Axes>"
      ]
     },
     "metadata": {
      "needs_background": "light"
     },
     "output_type": "display_data"
    }
   ],
   "source": [
    "color = ['indianred', 'darkolivegreen','steelblue', 'saddlebrown']\n",
    "init_list = [0,15,30,45]\n",
    "for i in range(1,5): # 1 to 4\n",
    "    target = 15 * i \n",
    "    if init_list[i-1] < machine_number:\n",
    "        fig, axs = plt.subplots(figsize = [15,10] )\n",
    "        x = machines[init_list[i-1]:target]\n",
    "        y = data[\"PORCENTAJE\"].iloc[init_list[i-1]:target]\n",
    "        bars = axs.bar(x, y, color = color[i-1], alpha = 1 ,linewidth = 0.2)\n",
    "        axs.set_xlabel('Máquinas')\n",
    "        axs.set_ylabel('% de Scrap')\n",
    "        axs.set_title('Porcentaje de scrap por máquina')\n",
    "        axs.bar_label(bars, label_type = \"edge\", fmt='%0.1f')\n",
    "        plt.savefig('scrap per machine_'+str(init_list[i-1]))\n",
    "    else:\n",
    "        continue"
   ]
  },
  {
   "cell_type": "code",
   "execution_count": null,
   "id": "fd40bf89",
   "metadata": {},
   "outputs": [],
   "source": []
  }
 ],
 "metadata": {
  "kernelspec": {
   "display_name": "Python 3 (ipykernel)",
   "language": "python",
   "name": "python3"
  },
  "language_info": {
   "codemirror_mode": {
    "name": "ipython",
    "version": 3
   },
   "file_extension": ".py",
   "mimetype": "text/x-python",
   "name": "python",
   "nbconvert_exporter": "python",
   "pygments_lexer": "ipython3",
   "version": "3.9.9"
  }
 },
 "nbformat": 4,
 "nbformat_minor": 5
}
