{
 "cells": [
  {
   "cell_type": "markdown",
   "id": "bcb5130a",
   "metadata": {},
   "source": [
    "# HOW MANY DAYS IN THE MONTH DID EACH MACHINE WORK?"
   ]
  },
  {
   "cell_type": "code",
   "execution_count": 1,
   "id": "d854dc3b",
   "metadata": {},
   "outputs": [],
   "source": [
    "import numpy as np\n",
    "import pandas as pd\n",
    "#import os\n",
    "#import datetime"
   ]
  },
  {
   "cell_type": "markdown",
   "id": "c3e7790e",
   "metadata": {},
   "source": [
    "* Calling the dataset"
   ]
  },
  {
   "cell_type": "code",
   "execution_count": 2,
   "id": "c599c810",
   "metadata": {},
   "outputs": [],
   "source": [
    "path = \"D:/Notas de Estudio/Proyectos/production_analysis__project/production_analysis/data/processed/data.csv\""
   ]
  },
  {
   "cell_type": "code",
   "execution_count": 3,
   "id": "2d045f9b",
   "metadata": {},
   "outputs": [
    {
     "data": {
      "text/html": [
       "<div>\n",
       "<style scoped>\n",
       "    .dataframe tbody tr th:only-of-type {\n",
       "        vertical-align: middle;\n",
       "    }\n",
       "\n",
       "    .dataframe tbody tr th {\n",
       "        vertical-align: top;\n",
       "    }\n",
       "\n",
       "    .dataframe thead th {\n",
       "        text-align: right;\n",
       "    }\n",
       "</style>\n",
       "<table border=\"1\" class=\"dataframe\">\n",
       "  <thead>\n",
       "    <tr style=\"text-align: right;\">\n",
       "      <th></th>\n",
       "      <th>FECHA</th>\n",
       "      <th>TURNO</th>\n",
       "      <th>GRUPO</th>\n",
       "      <th>MÁQ.</th>\n",
       "      <th>CODIGO</th>\n",
       "      <th>PRODUCCION (PZAS)</th>\n",
       "      <th>TOTAL KG</th>\n",
       "      <th>SCRAP</th>\n",
       "      <th>DIA</th>\n",
       "      <th>NOMBRE_DIA</th>\n",
       "    </tr>\n",
       "  </thead>\n",
       "  <tbody>\n",
       "    <tr>\n",
       "      <th>0</th>\n",
       "      <td>2021-12-01</td>\n",
       "      <td>Mañana</td>\n",
       "      <td>B</td>\n",
       "      <td>EB G1</td>\n",
       "      <td>0</td>\n",
       "      <td>0</td>\n",
       "      <td>0.000</td>\n",
       "      <td>0.00</td>\n",
       "      <td>1</td>\n",
       "      <td>Wednesday</td>\n",
       "    </tr>\n",
       "    <tr>\n",
       "      <th>1</th>\n",
       "      <td>2021-12-01</td>\n",
       "      <td>Mañana</td>\n",
       "      <td>B</td>\n",
       "      <td>EB G2</td>\n",
       "      <td>IBT24,5X35C0F0S</td>\n",
       "      <td>4</td>\n",
       "      <td>64.550</td>\n",
       "      <td>86.25</td>\n",
       "      <td>1</td>\n",
       "      <td>Wednesday</td>\n",
       "    </tr>\n",
       "    <tr>\n",
       "      <th>2</th>\n",
       "      <td>2021-12-01</td>\n",
       "      <td>Mañana</td>\n",
       "      <td>B</td>\n",
       "      <td>EB G3</td>\n",
       "      <td>IBT17X40G1F0SO</td>\n",
       "      <td>8</td>\n",
       "      <td>194.770</td>\n",
       "      <td>12.40</td>\n",
       "      <td>1</td>\n",
       "      <td>Wednesday</td>\n",
       "    </tr>\n",
       "    <tr>\n",
       "      <th>3</th>\n",
       "      <td>2021-12-01</td>\n",
       "      <td>Mañana</td>\n",
       "      <td>B</td>\n",
       "      <td>EB G4</td>\n",
       "      <td>IBT17X30G1F0S2</td>\n",
       "      <td>8</td>\n",
       "      <td>295.776</td>\n",
       "      <td>11.85</td>\n",
       "      <td>1</td>\n",
       "      <td>Wednesday</td>\n",
       "    </tr>\n",
       "    <tr>\n",
       "      <th>4</th>\n",
       "      <td>2021-12-01</td>\n",
       "      <td>Mañana</td>\n",
       "      <td>B</td>\n",
       "      <td>EB-17</td>\n",
       "      <td>0</td>\n",
       "      <td>0</td>\n",
       "      <td>0.000</td>\n",
       "      <td>0.00</td>\n",
       "      <td>1</td>\n",
       "      <td>Wednesday</td>\n",
       "    </tr>\n",
       "    <tr>\n",
       "      <th>...</th>\n",
       "      <td>...</td>\n",
       "      <td>...</td>\n",
       "      <td>...</td>\n",
       "      <td>...</td>\n",
       "      <td>...</td>\n",
       "      <td>...</td>\n",
       "      <td>...</td>\n",
       "      <td>...</td>\n",
       "      <td>...</td>\n",
       "      <td>...</td>\n",
       "    </tr>\n",
       "    <tr>\n",
       "      <th>4318</th>\n",
       "      <td>2021-12-23</td>\n",
       "      <td>Noche</td>\n",
       "      <td>A</td>\n",
       "      <td>EB 121</td>\n",
       "      <td>0</td>\n",
       "      <td>0</td>\n",
       "      <td>0.000</td>\n",
       "      <td>0.00</td>\n",
       "      <td>23</td>\n",
       "      <td>Thursday</td>\n",
       "    </tr>\n",
       "    <tr>\n",
       "      <th>4319</th>\n",
       "      <td>2021-12-23</td>\n",
       "      <td>Noche</td>\n",
       "      <td>A</td>\n",
       "      <td>EB-122</td>\n",
       "      <td>IPT18X40C0F0SO</td>\n",
       "      <td>12</td>\n",
       "      <td>169.230</td>\n",
       "      <td>24.90</td>\n",
       "      <td>23</td>\n",
       "      <td>Thursday</td>\n",
       "    </tr>\n",
       "    <tr>\n",
       "      <th>4320</th>\n",
       "      <td>2021-12-23</td>\n",
       "      <td>Noche</td>\n",
       "      <td>A</td>\n",
       "      <td>EB-123</td>\n",
       "      <td>0</td>\n",
       "      <td>0</td>\n",
       "      <td>0.000</td>\n",
       "      <td>0.00</td>\n",
       "      <td>23</td>\n",
       "      <td>Thursday</td>\n",
       "    </tr>\n",
       "    <tr>\n",
       "      <th>4321</th>\n",
       "      <td>2021-12-23</td>\n",
       "      <td>Noche</td>\n",
       "      <td>A</td>\n",
       "      <td>EB-124</td>\n",
       "      <td>0</td>\n",
       "      <td>0</td>\n",
       "      <td>0.000</td>\n",
       "      <td>0.00</td>\n",
       "      <td>23</td>\n",
       "      <td>Thursday</td>\n",
       "    </tr>\n",
       "    <tr>\n",
       "      <th>4322</th>\n",
       "      <td>2021-12-23</td>\n",
       "      <td>Noche</td>\n",
       "      <td>A</td>\n",
       "      <td>EB-125</td>\n",
       "      <td>0</td>\n",
       "      <td>0</td>\n",
       "      <td>0.000</td>\n",
       "      <td>0.00</td>\n",
       "      <td>23</td>\n",
       "      <td>Thursday</td>\n",
       "    </tr>\n",
       "  </tbody>\n",
       "</table>\n",
       "<p>4323 rows × 10 columns</p>\n",
       "</div>"
      ],
      "text/plain": [
       "           FECHA   TURNO GRUPO    MÁQ.           CODIGO  PRODUCCION (PZAS)  \\\n",
       "0     2021-12-01  Mañana     B   EB G1                0                  0   \n",
       "1     2021-12-01  Mañana     B   EB G2  IBT24,5X35C0F0S                  4   \n",
       "2     2021-12-01  Mañana     B   EB G3   IBT17X40G1F0SO                  8   \n",
       "3     2021-12-01  Mañana     B   EB G4   IBT17X30G1F0S2                  8   \n",
       "4     2021-12-01  Mañana     B   EB-17                0                  0   \n",
       "...          ...     ...   ...     ...              ...                ...   \n",
       "4318  2021-12-23   Noche     A  EB 121                0                  0   \n",
       "4319  2021-12-23   Noche     A  EB-122   IPT18X40C0F0SO                 12   \n",
       "4320  2021-12-23   Noche     A  EB-123                0                  0   \n",
       "4321  2021-12-23   Noche     A  EB-124                0                  0   \n",
       "4322  2021-12-23   Noche     A  EB-125                0                  0   \n",
       "\n",
       "      TOTAL KG  SCRAP  DIA NOMBRE_DIA  \n",
       "0        0.000   0.00    1  Wednesday  \n",
       "1       64.550  86.25    1  Wednesday  \n",
       "2      194.770  12.40    1  Wednesday  \n",
       "3      295.776  11.85    1  Wednesday  \n",
       "4        0.000   0.00    1  Wednesday  \n",
       "...        ...    ...  ...        ...  \n",
       "4318     0.000   0.00   23   Thursday  \n",
       "4319   169.230  24.90   23   Thursday  \n",
       "4320     0.000   0.00   23   Thursday  \n",
       "4321     0.000   0.00   23   Thursday  \n",
       "4322     0.000   0.00   23   Thursday  \n",
       "\n",
       "[4323 rows x 10 columns]"
      ]
     },
     "execution_count": 3,
     "metadata": {},
     "output_type": "execute_result"
    }
   ],
   "source": [
    "df = pd.read_csv(path, header = 0, index_col = False)\n",
    "df"
   ]
  },
  {
   "cell_type": "markdown",
   "id": "ac3d5ef5",
   "metadata": {},
   "source": [
    "* Woking days of each machine"
   ]
  },
  {
   "cell_type": "code",
   "execution_count": 4,
   "id": "68a8c249",
   "metadata": {},
   "outputs": [],
   "source": [
    "# THIS PART OF THE CODE IS JUST FOR LEARNING"
   ]
  },
  {
   "cell_type": "code",
   "execution_count": 5,
   "id": "9981ec60",
   "metadata": {},
   "outputs": [
    {
     "data": {
      "text/html": [
       "<div>\n",
       "<style scoped>\n",
       "    .dataframe tbody tr th:only-of-type {\n",
       "        vertical-align: middle;\n",
       "    }\n",
       "\n",
       "    .dataframe tbody tr th {\n",
       "        vertical-align: top;\n",
       "    }\n",
       "\n",
       "    .dataframe thead th {\n",
       "        text-align: right;\n",
       "    }\n",
       "</style>\n",
       "<table border=\"1\" class=\"dataframe\">\n",
       "  <thead>\n",
       "    <tr style=\"text-align: right;\">\n",
       "      <th></th>\n",
       "      <th></th>\n",
       "      <th>PRODUCCION (PZAS)</th>\n",
       "      <th>TOTAL KG</th>\n",
       "      <th>SCRAP</th>\n",
       "    </tr>\n",
       "    <tr>\n",
       "      <th>DIA</th>\n",
       "      <th>MÁQ.</th>\n",
       "      <th></th>\n",
       "      <th></th>\n",
       "      <th></th>\n",
       "    </tr>\n",
       "  </thead>\n",
       "  <tbody>\n",
       "    <tr>\n",
       "      <th rowspan=\"5\" valign=\"top\">1</th>\n",
       "      <th>EB 120</th>\n",
       "      <td>48</td>\n",
       "      <td>1151.520</td>\n",
       "      <td>32.90</td>\n",
       "    </tr>\n",
       "    <tr>\n",
       "      <th>EB 121</th>\n",
       "      <td>0</td>\n",
       "      <td>0.000</td>\n",
       "      <td>0.00</td>\n",
       "    </tr>\n",
       "    <tr>\n",
       "      <th>EB G1</th>\n",
       "      <td>0</td>\n",
       "      <td>0.000</td>\n",
       "      <td>0.00</td>\n",
       "    </tr>\n",
       "    <tr>\n",
       "      <th>EB G2</th>\n",
       "      <td>19</td>\n",
       "      <td>298.675</td>\n",
       "      <td>129.25</td>\n",
       "    </tr>\n",
       "    <tr>\n",
       "      <th>EB G3</th>\n",
       "      <td>24</td>\n",
       "      <td>578.010</td>\n",
       "      <td>38.90</td>\n",
       "    </tr>\n",
       "    <tr>\n",
       "      <th>...</th>\n",
       "      <th>...</th>\n",
       "      <td>...</td>\n",
       "      <td>...</td>\n",
       "      <td>...</td>\n",
       "    </tr>\n",
       "    <tr>\n",
       "      <th rowspan=\"5\" valign=\"top\">23</th>\n",
       "      <th>EB-123</th>\n",
       "      <td>0</td>\n",
       "      <td>0.000</td>\n",
       "      <td>0.00</td>\n",
       "    </tr>\n",
       "    <tr>\n",
       "      <th>EB-124</th>\n",
       "      <td>0</td>\n",
       "      <td>0.000</td>\n",
       "      <td>0.00</td>\n",
       "    </tr>\n",
       "    <tr>\n",
       "      <th>EB-125</th>\n",
       "      <td>35</td>\n",
       "      <td>1095.500</td>\n",
       "      <td>53.85</td>\n",
       "    </tr>\n",
       "    <tr>\n",
       "      <th>EB-17</th>\n",
       "      <td>134</td>\n",
       "      <td>2583.360</td>\n",
       "      <td>203.85</td>\n",
       "    </tr>\n",
       "    <tr>\n",
       "      <th>EB-18</th>\n",
       "      <td>0</td>\n",
       "      <td>0.000</td>\n",
       "      <td>0.00</td>\n",
       "    </tr>\n",
       "  </tbody>\n",
       "</table>\n",
       "<p>1426 rows × 3 columns</p>\n",
       "</div>"
      ],
      "text/plain": [
       "            PRODUCCION (PZAS)  TOTAL KG   SCRAP\n",
       "DIA MÁQ.                                       \n",
       "1   EB 120                 48  1151.520   32.90\n",
       "    EB 121                  0     0.000    0.00\n",
       "    EB G1                   0     0.000    0.00\n",
       "    EB G2                  19   298.675  129.25\n",
       "    EB G3                  24   578.010   38.90\n",
       "...                       ...       ...     ...\n",
       "23  EB-123                  0     0.000    0.00\n",
       "    EB-124                  0     0.000    0.00\n",
       "    EB-125                 35  1095.500   53.85\n",
       "    EB-17                 134  2583.360  203.85\n",
       "    EB-18                   0     0.000    0.00\n",
       "\n",
       "[1426 rows x 3 columns]"
      ]
     },
     "execution_count": 5,
     "metadata": {},
     "output_type": "execute_result"
    }
   ],
   "source": [
    "test = df.groupby(['DIA', 'MÁQ.']).sum()\n",
    "test"
   ]
  },
  {
   "cell_type": "code",
   "execution_count": 6,
   "id": "c7f968a9",
   "metadata": {},
   "outputs": [
    {
     "data": {
      "text/plain": [
       "MultiIndex([( 1, 'EB 120'),\n",
       "            ( 1, 'EB 121'),\n",
       "            ( 1,  'EB G1'),\n",
       "            ( 1,  'EB G2'),\n",
       "            ( 1,  'EB G3'),\n",
       "            ( 1,  'EB G4'),\n",
       "            ( 1, 'EB-026'),\n",
       "            ( 1, 'EB-029'),\n",
       "            ( 1, 'EB-032'),\n",
       "            ( 1, 'EB-036'),\n",
       "            ...\n",
       "            (23, 'EB-116'),\n",
       "            (23, 'EB-117'),\n",
       "            (23, 'EB-118'),\n",
       "            (23, 'EB-119'),\n",
       "            (23, 'EB-122'),\n",
       "            (23, 'EB-123'),\n",
       "            (23, 'EB-124'),\n",
       "            (23, 'EB-125'),\n",
       "            (23,  'EB-17'),\n",
       "            (23,  'EB-18')],\n",
       "           names=['DIA', 'MÁQ.'], length=1426)"
      ]
     },
     "execution_count": 6,
     "metadata": {},
     "output_type": "execute_result"
    }
   ],
   "source": [
    "test.index  #knowing the index"
   ]
  },
  {
   "cell_type": "code",
   "execution_count": 7,
   "id": "fa436b3a",
   "metadata": {},
   "outputs": [
    {
     "data": {
      "text/plain": [
       "PRODUCCION (PZAS)      48.00\n",
       "TOTAL KG             1151.52\n",
       "SCRAP                  32.90\n",
       "Name: (1, EB 120), dtype: float64"
      ]
     },
     "execution_count": 7,
     "metadata": {},
     "output_type": "execute_result"
    }
   ],
   "source": [
    "test.loc[( 1, 'EB 120')]"
   ]
  },
  {
   "cell_type": "code",
   "execution_count": 8,
   "id": "09a7ee63",
   "metadata": {},
   "outputs": [
    {
     "data": {
      "text/plain": [
       "TOTAL KG    1151.52\n",
       "Name: (1, EB 120), dtype: float64"
      ]
     },
     "execution_count": 8,
     "metadata": {},
     "output_type": "execute_result"
    }
   ],
   "source": [
    "test.loc[( 1, 'EB 120'),['TOTAL KG']]"
   ]
  },
  {
   "cell_type": "code",
   "execution_count": 9,
   "id": "ea118841",
   "metadata": {},
   "outputs": [
    {
     "data": {
      "text/plain": [
       "TOTAL KG    True\n",
       "Name: (1, EB 120), dtype: bool"
      ]
     },
     "execution_count": 9,
     "metadata": {},
     "output_type": "execute_result"
    }
   ],
   "source": [
    "test.loc[( 1, 'EB 120'),['TOTAL KG']] > 0"
   ]
  },
  {
   "cell_type": "code",
   "execution_count": 10,
   "id": "5ab5563f",
   "metadata": {},
   "outputs": [],
   "source": [
    "days = set()\n",
    "machines = set()\n",
    "for day, machine in test.index:\n",
    "    days.add(day)\n",
    "    machines.add(machine)\n"
   ]
  },
  {
   "cell_type": "code",
   "execution_count": 11,
   "id": "c69ef2c2",
   "metadata": {},
   "outputs": [
    {
     "name": "stdout",
     "output_type": "stream",
     "text": [
      "{1, 2, 3, 4, 5, 6, 7, 8, 9, 10, 11, 12, 13, 14, 15, 16, 17, 18, 19, 20, 21, 22, 23} {'EB 121', 'EB 120', 'EB-088', 'EB-091', 'EB-122', 'EB-101', 'EB-047', 'EB-043', 'EB-097', 'EB-117', 'EB-119', 'EB G2', 'EB-111', 'EB-099', 'EB-109', 'EB-108', 'EB-038', 'EB-071', 'EB-098', 'EB-045', 'EB-106', 'EB-103', 'EB-115', 'EB-124', 'EB G4', 'EB-050', 'EB-052', 'EB-116', 'EB-096', 'EB-026', 'EB-072', 'EB-093', 'EB-051', 'EB-032', 'EB-094', 'EB-125', 'EB-17', 'EB-092', 'EB-029', 'EB-070', 'EB-044', 'EB-123', 'EB-112', 'EB G3', 'EB-036', 'EB G1', 'EB-102', 'EB-105', 'EB-104', 'EB-18', 'EB-118', 'EB-073', 'EB-107', 'EB-075', 'EB-053', 'EB-095', 'EB-037', 'EB-074', 'EB-110', 'EB-114', 'EB-090', 'EB-046'}\n"
     ]
    }
   ],
   "source": [
    "print(days, machines)"
   ]
  },
  {
   "cell_type": "code",
   "execution_count": 12,
   "id": "80f2ca68",
   "metadata": {},
   "outputs": [],
   "source": [
    "# FROM THIS PART THE CODE IS FOR THE MAIN PROGRAM"
   ]
  },
  {
   "cell_type": "code",
   "execution_count": 13,
   "id": "75a5f0c5",
   "metadata": {},
   "outputs": [],
   "source": [
    "# Days of work for one machine"
   ]
  },
  {
   "cell_type": "code",
   "execution_count": 14,
   "id": "541c3727",
   "metadata": {},
   "outputs": [
    {
     "data": {
      "text/html": [
       "<div>\n",
       "<style scoped>\n",
       "    .dataframe tbody tr th:only-of-type {\n",
       "        vertical-align: middle;\n",
       "    }\n",
       "\n",
       "    .dataframe tbody tr th {\n",
       "        vertical-align: top;\n",
       "    }\n",
       "\n",
       "    .dataframe thead th {\n",
       "        text-align: right;\n",
       "    }\n",
       "</style>\n",
       "<table border=\"1\" class=\"dataframe\">\n",
       "  <thead>\n",
       "    <tr style=\"text-align: right;\">\n",
       "      <th></th>\n",
       "      <th></th>\n",
       "      <th>PRODUCCION (PZAS)</th>\n",
       "      <th>TOTAL KG</th>\n",
       "      <th>SCRAP</th>\n",
       "    </tr>\n",
       "    <tr>\n",
       "      <th>MÁQ.</th>\n",
       "      <th>DIA</th>\n",
       "      <th></th>\n",
       "      <th></th>\n",
       "      <th></th>\n",
       "    </tr>\n",
       "  </thead>\n",
       "  <tbody>\n",
       "    <tr>\n",
       "      <th rowspan=\"5\" valign=\"top\">EB 120</th>\n",
       "      <th>1</th>\n",
       "      <td>48</td>\n",
       "      <td>1151.52</td>\n",
       "      <td>32.90</td>\n",
       "    </tr>\n",
       "    <tr>\n",
       "      <th>2</th>\n",
       "      <td>50</td>\n",
       "      <td>1230.75</td>\n",
       "      <td>3.10</td>\n",
       "    </tr>\n",
       "    <tr>\n",
       "      <th>3</th>\n",
       "      <td>48</td>\n",
       "      <td>1181.52</td>\n",
       "      <td>0.00</td>\n",
       "    </tr>\n",
       "    <tr>\n",
       "      <th>4</th>\n",
       "      <td>50</td>\n",
       "      <td>1207.75</td>\n",
       "      <td>1.65</td>\n",
       "    </tr>\n",
       "    <tr>\n",
       "      <th>5</th>\n",
       "      <td>0</td>\n",
       "      <td>0.00</td>\n",
       "      <td>0.00</td>\n",
       "    </tr>\n",
       "    <tr>\n",
       "      <th>...</th>\n",
       "      <th>...</th>\n",
       "      <td>...</td>\n",
       "      <td>...</td>\n",
       "      <td>...</td>\n",
       "    </tr>\n",
       "    <tr>\n",
       "      <th rowspan=\"5\" valign=\"top\">EB-18</th>\n",
       "      <th>19</th>\n",
       "      <td>0</td>\n",
       "      <td>0.00</td>\n",
       "      <td>0.00</td>\n",
       "    </tr>\n",
       "    <tr>\n",
       "      <th>20</th>\n",
       "      <td>0</td>\n",
       "      <td>0.00</td>\n",
       "      <td>0.00</td>\n",
       "    </tr>\n",
       "    <tr>\n",
       "      <th>21</th>\n",
       "      <td>0</td>\n",
       "      <td>0.00</td>\n",
       "      <td>0.00</td>\n",
       "    </tr>\n",
       "    <tr>\n",
       "      <th>22</th>\n",
       "      <td>0</td>\n",
       "      <td>0.00</td>\n",
       "      <td>0.00</td>\n",
       "    </tr>\n",
       "    <tr>\n",
       "      <th>23</th>\n",
       "      <td>0</td>\n",
       "      <td>0.00</td>\n",
       "      <td>0.00</td>\n",
       "    </tr>\n",
       "  </tbody>\n",
       "</table>\n",
       "<p>1426 rows × 3 columns</p>\n",
       "</div>"
      ],
      "text/plain": [
       "            PRODUCCION (PZAS)  TOTAL KG  SCRAP\n",
       "MÁQ.   DIA                                    \n",
       "EB 120 1                   48   1151.52  32.90\n",
       "       2                   50   1230.75   3.10\n",
       "       3                   48   1181.52   0.00\n",
       "       4                   50   1207.75   1.65\n",
       "       5                    0      0.00   0.00\n",
       "...                       ...       ...    ...\n",
       "EB-18  19                   0      0.00   0.00\n",
       "       20                   0      0.00   0.00\n",
       "       21                   0      0.00   0.00\n",
       "       22                   0      0.00   0.00\n",
       "       23                   0      0.00   0.00\n",
       "\n",
       "[1426 rows x 3 columns]"
      ]
     },
     "execution_count": 14,
     "metadata": {},
     "output_type": "execute_result"
    }
   ],
   "source": [
    "df_group = df.groupby(['MÁQ.','DIA']).sum()\n",
    "df_group"
   ]
  },
  {
   "cell_type": "code",
   "execution_count": 15,
   "id": "30f3793b",
   "metadata": {},
   "outputs": [
    {
     "data": {
      "text/plain": [
       "DIA\n",
       "1      True\n",
       "2      True\n",
       "3      True\n",
       "4      True\n",
       "5     False\n",
       "6      True\n",
       "7      True\n",
       "8      True\n",
       "9      True\n",
       "10     True\n",
       "11     True\n",
       "12     True\n",
       "13     True\n",
       "14     True\n",
       "15     True\n",
       "16     True\n",
       "17     True\n",
       "18     True\n",
       "19     True\n",
       "20     True\n",
       "21     True\n",
       "22     True\n",
       "23     True\n",
       "Name: TOTAL KG, dtype: bool"
      ]
     },
     "execution_count": 15,
     "metadata": {},
     "output_type": "execute_result"
    }
   ],
   "source": [
    "df_group.loc['EB 120']['TOTAL KG']>0"
   ]
  },
  {
   "cell_type": "code",
   "execution_count": 16,
   "id": "c391d0a2",
   "metadata": {},
   "outputs": [
    {
     "data": {
      "text/plain": [
       "pandas.core.series.Series"
      ]
     },
     "execution_count": 16,
     "metadata": {},
     "output_type": "execute_result"
    }
   ],
   "source": [
    "filt = df_group.loc['EB 120']['TOTAL KG']>0\n",
    "type(filt)"
   ]
  },
  {
   "cell_type": "code",
   "execution_count": 17,
   "id": "04748aa4",
   "metadata": {},
   "outputs": [
    {
     "data": {
      "text/plain": [
       "23"
      ]
     },
     "execution_count": 17,
     "metadata": {},
     "output_type": "execute_result"
    }
   ],
   "source": [
    "filt.count()"
   ]
  },
  {
   "cell_type": "code",
   "execution_count": 18,
   "id": "7762bcf7",
   "metadata": {},
   "outputs": [
    {
     "data": {
      "text/plain": [
       "22"
      ]
     },
     "execution_count": 18,
     "metadata": {},
     "output_type": "execute_result"
    }
   ],
   "source": [
    "filt.where(filt == True).count()"
   ]
  },
  {
   "cell_type": "code",
   "execution_count": 19,
   "id": "8bc905d2",
   "metadata": {},
   "outputs": [],
   "source": [
    "# days of work for all machines"
   ]
  },
  {
   "cell_type": "code",
   "execution_count": 20,
   "id": "1b205bbf",
   "metadata": {},
   "outputs": [
    {
     "name": "stdout",
     "output_type": "stream",
     "text": [
      "{'EB 121', 'EB 120', 'EB-088', 'EB-091', 'EB-122', 'EB-101', 'EB-047', 'EB-043', 'EB-097', 'EB-117', 'EB-119', 'EB G2', 'EB-111', 'EB-099', 'EB-109', 'EB-108', 'EB-038', 'EB-071', 'EB-098', 'EB-045', 'EB-106', 'EB-103', 'EB-115', 'EB-124', 'EB G4', 'EB-050', 'EB-052', 'EB-116', 'EB-096', 'EB-026', 'EB-072', 'EB-093', 'EB-051', 'EB-032', 'EB-094', 'EB-125', 'EB-17', 'EB-092', 'EB-029', 'EB-070', 'EB-044', 'EB-123', 'EB-112', 'EB G3', 'EB-036', 'EB G1', 'EB-102', 'EB-105', 'EB-104', 'EB-18', 'EB-118', 'EB-073', 'EB-107', 'EB-075', 'EB-053', 'EB-095', 'EB-037', 'EB-074', 'EB-110', 'EB-114', 'EB-090', 'EB-046'}\n"
     ]
    }
   ],
   "source": [
    "machines = set()\n",
    "for day, machine in test.index:\n",
    "    machines.add(machine)\n",
    "print(machines)"
   ]
  },
  {
   "cell_type": "code",
   "execution_count": 21,
   "id": "6b3a8751",
   "metadata": {},
   "outputs": [
    {
     "name": "stdout",
     "output_type": "stream",
     "text": [
      "{'EB 121': 10, 'EB 120': 22, 'EB-088': 0, 'EB-091': 20, 'EB-122': 22, 'EB-101': 20, 'EB-047': 0, 'EB-043': 16, 'EB-097': 0, 'EB-117': 23, 'EB-119': 21, 'EB G2': 22, 'EB-111': 20, 'EB-099': 13, 'EB-109': 10, 'EB-108': 20, 'EB-038': 0, 'EB-071': 0, 'EB-098': 1, 'EB-045': 12, 'EB-106': 20, 'EB-103': 15, 'EB-115': 7, 'EB-124': 20, 'EB G4': 2, 'EB-050': 20, 'EB-052': 20, 'EB-116': 0, 'EB-096': 0, 'EB-026': 0, 'EB-072': 0, 'EB-093': 10, 'EB-051': 20, 'EB-032': 20, 'EB-094': 0, 'EB-125': 20, 'EB-17': 4, 'EB-092': 0, 'EB-029': 8, 'EB-070': 6, 'EB-044': 16, 'EB-123': 14, 'EB-112': 0, 'EB G3': 11, 'EB-036': 20, 'EB G1': 22, 'EB-102': 18, 'EB-105': 20, 'EB-104': 21, 'EB-18': 10, 'EB-118': 21, 'EB-073': 0, 'EB-107': 21, 'EB-075': 13, 'EB-053': 23, 'EB-095': 0, 'EB-037': 0, 'EB-074': 13, 'EB-110': 10, 'EB-114': 14, 'EB-090': 20, 'EB-046': 14}\n"
     ]
    }
   ],
   "source": [
    "machines_dict = {}\n",
    "for machine in machines:\n",
    "    filt = df_group.loc[machine]['TOTAL KG']>0\n",
    "    days_of_work = filt.where(filt == True).count()\n",
    "    machines_dict[machine] = days_of_work\n",
    "print(machines_dict)\n",
    "    "
   ]
  },
  {
   "cell_type": "code",
   "execution_count": 22,
   "id": "d6fa8db0",
   "metadata": {},
   "outputs": [],
   "source": [
    "#a clearer way to do it"
   ]
  },
  {
   "cell_type": "code",
   "execution_count": 23,
   "id": "629ebb79",
   "metadata": {},
   "outputs": [
    {
     "data": {
      "text/html": [
       "<div>\n",
       "<style scoped>\n",
       "    .dataframe tbody tr th:only-of-type {\n",
       "        vertical-align: middle;\n",
       "    }\n",
       "\n",
       "    .dataframe tbody tr th {\n",
       "        vertical-align: top;\n",
       "    }\n",
       "\n",
       "    .dataframe thead th {\n",
       "        text-align: right;\n",
       "    }\n",
       "</style>\n",
       "<table border=\"1\" class=\"dataframe\">\n",
       "  <thead>\n",
       "    <tr style=\"text-align: right;\">\n",
       "      <th></th>\n",
       "      <th>PRODUCCION (PZAS)</th>\n",
       "      <th>TOTAL KG</th>\n",
       "      <th>SCRAP</th>\n",
       "    </tr>\n",
       "    <tr>\n",
       "      <th>DIA</th>\n",
       "      <th></th>\n",
       "      <th></th>\n",
       "      <th></th>\n",
       "    </tr>\n",
       "  </thead>\n",
       "  <tbody>\n",
       "    <tr>\n",
       "      <th>1</th>\n",
       "      <td>13</td>\n",
       "      <td>642.395</td>\n",
       "      <td>199.30</td>\n",
       "    </tr>\n",
       "    <tr>\n",
       "      <th>2</th>\n",
       "      <td>24</td>\n",
       "      <td>1192.510</td>\n",
       "      <td>105.50</td>\n",
       "    </tr>\n",
       "    <tr>\n",
       "      <th>3</th>\n",
       "      <td>24</td>\n",
       "      <td>1199.410</td>\n",
       "      <td>41.95</td>\n",
       "    </tr>\n",
       "    <tr>\n",
       "      <th>4</th>\n",
       "      <td>23</td>\n",
       "      <td>1146.595</td>\n",
       "      <td>93.90</td>\n",
       "    </tr>\n",
       "    <tr>\n",
       "      <th>5</th>\n",
       "      <td>0</td>\n",
       "      <td>0.000</td>\n",
       "      <td>0.00</td>\n",
       "    </tr>\n",
       "    <tr>\n",
       "      <th>6</th>\n",
       "      <td>20</td>\n",
       "      <td>987.650</td>\n",
       "      <td>161.00</td>\n",
       "    </tr>\n",
       "    <tr>\n",
       "      <th>7</th>\n",
       "      <td>23</td>\n",
       "      <td>1130.345</td>\n",
       "      <td>91.70</td>\n",
       "    </tr>\n",
       "    <tr>\n",
       "      <th>8</th>\n",
       "      <td>20</td>\n",
       "      <td>695.426</td>\n",
       "      <td>214.75</td>\n",
       "    </tr>\n",
       "    <tr>\n",
       "      <th>9</th>\n",
       "      <td>33</td>\n",
       "      <td>1179.276</td>\n",
       "      <td>19.85</td>\n",
       "    </tr>\n",
       "    <tr>\n",
       "      <th>10</th>\n",
       "      <td>32</td>\n",
       "      <td>1130.254</td>\n",
       "      <td>74.20</td>\n",
       "    </tr>\n",
       "    <tr>\n",
       "      <th>11</th>\n",
       "      <td>32</td>\n",
       "      <td>1153.254</td>\n",
       "      <td>11.10</td>\n",
       "    </tr>\n",
       "    <tr>\n",
       "      <th>12</th>\n",
       "      <td>0</td>\n",
       "      <td>0.000</td>\n",
       "      <td>0.00</td>\n",
       "    </tr>\n",
       "    <tr>\n",
       "      <th>13</th>\n",
       "      <td>20</td>\n",
       "      <td>715.840</td>\n",
       "      <td>79.95</td>\n",
       "    </tr>\n",
       "    <tr>\n",
       "      <th>14</th>\n",
       "      <td>34</td>\n",
       "      <td>1218.398</td>\n",
       "      <td>0.00</td>\n",
       "    </tr>\n",
       "    <tr>\n",
       "      <th>15</th>\n",
       "      <td>32</td>\n",
       "      <td>1145.254</td>\n",
       "      <td>0.00</td>\n",
       "    </tr>\n",
       "    <tr>\n",
       "      <th>16</th>\n",
       "      <td>32</td>\n",
       "      <td>1146.454</td>\n",
       "      <td>4.90</td>\n",
       "    </tr>\n",
       "    <tr>\n",
       "      <th>17</th>\n",
       "      <td>33</td>\n",
       "      <td>1181.376</td>\n",
       "      <td>40.20</td>\n",
       "    </tr>\n",
       "    <tr>\n",
       "      <th>18</th>\n",
       "      <td>32</td>\n",
       "      <td>1133.304</td>\n",
       "      <td>0.00</td>\n",
       "    </tr>\n",
       "    <tr>\n",
       "      <th>19</th>\n",
       "      <td>33</td>\n",
       "      <td>1180.876</td>\n",
       "      <td>17.65</td>\n",
       "    </tr>\n",
       "    <tr>\n",
       "      <th>20</th>\n",
       "      <td>33</td>\n",
       "      <td>1183.676</td>\n",
       "      <td>0.00</td>\n",
       "    </tr>\n",
       "    <tr>\n",
       "      <th>21</th>\n",
       "      <td>32</td>\n",
       "      <td>1150.404</td>\n",
       "      <td>31.55</td>\n",
       "    </tr>\n",
       "    <tr>\n",
       "      <th>22</th>\n",
       "      <td>33</td>\n",
       "      <td>1180.126</td>\n",
       "      <td>0.00</td>\n",
       "    </tr>\n",
       "    <tr>\n",
       "      <th>23</th>\n",
       "      <td>32</td>\n",
       "      <td>1144.654</td>\n",
       "      <td>48.85</td>\n",
       "    </tr>\n",
       "  </tbody>\n",
       "</table>\n",
       "</div>"
      ],
      "text/plain": [
       "     PRODUCCION (PZAS)  TOTAL KG   SCRAP\n",
       "DIA                                     \n",
       "1                   13   642.395  199.30\n",
       "2                   24  1192.510  105.50\n",
       "3                   24  1199.410   41.95\n",
       "4                   23  1146.595   93.90\n",
       "5                    0     0.000    0.00\n",
       "6                   20   987.650  161.00\n",
       "7                   23  1130.345   91.70\n",
       "8                   20   695.426  214.75\n",
       "9                   33  1179.276   19.85\n",
       "10                  32  1130.254   74.20\n",
       "11                  32  1153.254   11.10\n",
       "12                   0     0.000    0.00\n",
       "13                  20   715.840   79.95\n",
       "14                  34  1218.398    0.00\n",
       "15                  32  1145.254    0.00\n",
       "16                  32  1146.454    4.90\n",
       "17                  33  1181.376   40.20\n",
       "18                  32  1133.304    0.00\n",
       "19                  33  1180.876   17.65\n",
       "20                  33  1183.676    0.00\n",
       "21                  32  1150.404   31.55\n",
       "22                  33  1180.126    0.00\n",
       "23                  32  1144.654   48.85"
      ]
     },
     "execution_count": 23,
     "metadata": {},
     "output_type": "execute_result"
    }
   ],
   "source": [
    "df_group.loc['EB-118']"
   ]
  },
  {
   "cell_type": "code",
   "execution_count": 24,
   "id": "3d5c0a18",
   "metadata": {},
   "outputs": [
    {
     "data": {
      "text/plain": [
       "DIA\n",
       "1      642.395\n",
       "2     1192.510\n",
       "3     1199.410\n",
       "4     1146.595\n",
       "5        0.000\n",
       "6      987.650\n",
       "7     1130.345\n",
       "8      695.426\n",
       "9     1179.276\n",
       "10    1130.254\n",
       "11    1153.254\n",
       "12       0.000\n",
       "13     715.840\n",
       "14    1218.398\n",
       "15    1145.254\n",
       "16    1146.454\n",
       "17    1181.376\n",
       "18    1133.304\n",
       "19    1180.876\n",
       "20    1183.676\n",
       "21    1150.404\n",
       "22    1180.126\n",
       "23    1144.654\n",
       "Name: TOTAL KG, dtype: float64"
      ]
     },
     "execution_count": 24,
     "metadata": {},
     "output_type": "execute_result"
    }
   ],
   "source": [
    "df_group.loc['EB-118','TOTAL KG']"
   ]
  },
  {
   "cell_type": "code",
   "execution_count": 25,
   "id": "9c6e7235",
   "metadata": {},
   "outputs": [
    {
     "data": {
      "text/plain": [
       "pandas.core.series.Series"
      ]
     },
     "execution_count": 25,
     "metadata": {},
     "output_type": "execute_result"
    }
   ],
   "source": [
    "s = df_group.loc['EB-118','TOTAL KG']\n",
    "type(s)"
   ]
  },
  {
   "cell_type": "code",
   "execution_count": 26,
   "id": "69b5a592",
   "metadata": {},
   "outputs": [
    {
     "data": {
      "text/plain": [
       "21"
      ]
     },
     "execution_count": 26,
     "metadata": {},
     "output_type": "execute_result"
    }
   ],
   "source": [
    "s.where(s > 0).count()"
   ]
  },
  {
   "cell_type": "code",
   "execution_count": 27,
   "id": "4f613c6c",
   "metadata": {},
   "outputs": [
    {
     "name": "stdout",
     "output_type": "stream",
     "text": [
      "{'EB 121': 10, 'EB 120': 22, 'EB-088': 0, 'EB-091': 20, 'EB-122': 22, 'EB-101': 20, 'EB-047': 0, 'EB-043': 16, 'EB-097': 0, 'EB-117': 23, 'EB-119': 21, 'EB G2': 22, 'EB-111': 20, 'EB-099': 13, 'EB-109': 10, 'EB-108': 20, 'EB-038': 0, 'EB-071': 0, 'EB-098': 1, 'EB-045': 12, 'EB-106': 20, 'EB-103': 15, 'EB-115': 7, 'EB-124': 20, 'EB G4': 2, 'EB-050': 20, 'EB-052': 20, 'EB-116': 0, 'EB-096': 0, 'EB-026': 0, 'EB-072': 0, 'EB-093': 10, 'EB-051': 20, 'EB-032': 20, 'EB-094': 0, 'EB-125': 20, 'EB-17': 4, 'EB-092': 0, 'EB-029': 8, 'EB-070': 6, 'EB-044': 16, 'EB-123': 14, 'EB-112': 0, 'EB G3': 11, 'EB-036': 20, 'EB G1': 22, 'EB-102': 18, 'EB-105': 20, 'EB-104': 21, 'EB-18': 10, 'EB-118': 21, 'EB-073': 0, 'EB-107': 21, 'EB-075': 13, 'EB-053': 23, 'EB-095': 0, 'EB-037': 0, 'EB-074': 13, 'EB-110': 10, 'EB-114': 14, 'EB-090': 20, 'EB-046': 14}\n"
     ]
    }
   ],
   "source": [
    "machines_dict = {}\n",
    "for machine in machines:\n",
    "    s = df_group.loc[machine,'TOTAL KG']\n",
    "    days_of_work = s.where(s > 0).count()\n",
    "    machines_dict[machine] = days_of_work\n",
    "print(machines_dict)"
   ]
  },
  {
   "cell_type": "markdown",
   "id": "f31cedea",
   "metadata": {},
   "source": [
    "* Exporting to a csv"
   ]
  },
  {
   "cell_type": "code",
   "execution_count": 28,
   "id": "65f9faa4",
   "metadata": {},
   "outputs": [
    {
     "data": {
      "text/plain": [
       "EB 121    10\n",
       "EB 120    22\n",
       "EB-088     0\n",
       "EB-091    20\n",
       "EB-122    22\n",
       "          ..\n",
       "EB-074    13\n",
       "EB-110    10\n",
       "EB-114    14\n",
       "EB-090    20\n",
       "EB-046    14\n",
       "Length: 62, dtype: int64"
      ]
     },
     "execution_count": 28,
     "metadata": {},
     "output_type": "execute_result"
    }
   ],
   "source": [
    "machines_days_of_work = pd.Series(data = machines_dict, index =None)\n",
    "machines_days_of_work"
   ]
  },
  {
   "cell_type": "code",
   "execution_count": 29,
   "id": "b867f372",
   "metadata": {},
   "outputs": [
    {
     "data": {
      "text/plain": [
       "pandas.core.series.Series"
      ]
     },
     "execution_count": 29,
     "metadata": {},
     "output_type": "execute_result"
    }
   ],
   "source": [
    "type(machines_days_of_work)"
   ]
  },
  {
   "cell_type": "code",
   "execution_count": 42,
   "id": "2e09d480",
   "metadata": {},
   "outputs": [
    {
     "data": {
      "text/plain": [
       "EB-072     0\n",
       "EB-116     0\n",
       "EB-088     0\n",
       "EB-037     0\n",
       "EB-095     0\n",
       "          ..\n",
       "EB G1     22\n",
       "EB-122    22\n",
       "EB G2     22\n",
       "EB-053    23\n",
       "EB-117    23\n",
       "Length: 62, dtype: int64"
      ]
     },
     "execution_count": 42,
     "metadata": {},
     "output_type": "execute_result"
    }
   ],
   "source": [
    "machines_days_of_work.sort_values(ascending = True, inplace = True)\n",
    "machines_days_of_work"
   ]
  },
  {
   "cell_type": "code",
   "execution_count": 43,
   "id": "12e7da96",
   "metadata": {},
   "outputs": [
    {
     "name": "stdout",
     "output_type": "stream",
     "text": [
      "D:\\Notas de Estudio\\Proyectos\\production_analysis__project\\production_analysis\\data\\processed\n"
     ]
    }
   ],
   "source": [
    "%cd D:/Notas de Estudio/Proyectos/production_analysis__project/production_analysis/data/processed/"
   ]
  },
  {
   "cell_type": "code",
   "execution_count": 44,
   "id": "5e500f65",
   "metadata": {},
   "outputs": [],
   "source": [
    "machines_days_of_work.to_csv('machines_days_of_work.csv', index = True, header = False)"
   ]
  }
 ],
 "metadata": {
  "kernelspec": {
   "display_name": "Python 3 (ipykernel)",
   "language": "python",
   "name": "python3"
  },
  "language_info": {
   "codemirror_mode": {
    "name": "ipython",
    "version": 3
   },
   "file_extension": ".py",
   "mimetype": "text/x-python",
   "name": "python",
   "nbconvert_exporter": "python",
   "pygments_lexer": "ipython3",
   "version": "3.9.9"
  }
 },
 "nbformat": 4,
 "nbformat_minor": 5
}
