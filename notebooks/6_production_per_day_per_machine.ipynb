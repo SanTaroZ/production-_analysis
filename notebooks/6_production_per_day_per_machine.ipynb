{
 "cells": [
  {
   "cell_type": "code",
   "execution_count": 1,
   "id": "d8761a56",
   "metadata": {},
   "outputs": [],
   "source": [
    "import pandas as pd\n",
    "import openpyxl"
   ]
  },
  {
   "cell_type": "code",
   "execution_count": 2,
   "id": "ddd92c67",
   "metadata": {},
   "outputs": [
    {
     "name": "stdout",
     "output_type": "stream",
     "text": [
      " Volume in drive D is D\n",
      " Volume Serial Number is 02D3-2159\n",
      "\n",
      " Directory of d:\\Notas de Estudio\\Proyectos\\production_analysis__project\\production_analysis\\notebooks\n",
      "\n",
      "03/18/2022  05:57 PM    <DIR>          .\n",
      "03/18/2022  05:57 PM    <DIR>          ..\n",
      "03/18/2022  05:55 PM    <DIR>          .ipynb_checkpoints\n",
      "03/18/2022  05:56 PM           149,189 0_preparing_data.ipynb\n",
      "01/20/2022  06:23 PM            40,147 1_machine_working_days.ipynb\n",
      "03/18/2022  05:57 PM           558,420 2_scrap_vs_production.ipynb\n",
      "01/20/2022  06:23 PM           350,310 3_scrap_vs_total_scrap.ipynb\n",
      "01/20/2022  06:23 PM            23,925 4_cross_information_between_lists.ipynb\n",
      "02/11/2022  08:13 PM           190,428 5_scrap_per_machine.ipynb\n",
      "03/17/2022  09:08 PM            41,023 6_production_per_day_per_machine.ipynb\n",
      "               7 File(s)      1,353,442 bytes\n",
      "               3 Dir(s)  232,656,605,184 bytes free\n"
     ]
    }
   ],
   "source": [
    "!dir"
   ]
  },
  {
   "cell_type": "code",
   "execution_count": 3,
   "id": "7b8945d4",
   "metadata": {},
   "outputs": [
    {
     "name": "stdout",
     "output_type": "stream",
     "text": [
      "D:\\Notas de Estudio\\Proyectos\\production_analysis__project\\production_analysis\\data\\processed\n",
      " Volume in drive D is D\n",
      " Volume Serial Number is 02D3-2159\n",
      "\n",
      " Directory of D:\\Notas de Estudio\\Proyectos\\production_analysis__project\\production_analysis\\data\\processed\n",
      "\n",
      "03/19/2022  03:16 PM    <DIR>          .\n",
      "03/19/2022  03:16 PM    <DIR>          ..\n",
      "01/20/2022  06:23 PM                 0 .gitkeep\n",
      "01/01/2022  12:05 PM    <DIR>          .ipynb_checkpoints\n",
      "03/19/2022  03:16 PM                76 common list.txt\n",
      "03/19/2022  03:16 PM           330,645 data.csv\n",
      "03/19/2022  03:16 PM               648 machines_days_of_work.csv\n",
      "03/19/2022  03:16 PM             6,356 prod_per_day.xlsx\n",
      "03/19/2022  03:16 PM            31,120 scrap per machine_0.png\n",
      "03/19/2022  03:16 PM            31,585 scrap per machine_15.png\n",
      "03/19/2022  03:16 PM            25,254 scrap per machine_30.png\n",
      "03/19/2022  03:16 PM            17,782 scrap_vs_production.pdf\n",
      "03/19/2022  03:16 PM            16,711 scrap_vs_total_scrap.pdf\n",
      "03/19/2022  03:16 PM            30,340 tendency_scrap_vs_production.pdf\n",
      "03/19/2022  03:16 PM            30,486 tendency_scrap_vs_total_scrap.pdf\n",
      "              12 File(s)        521,003 bytes\n",
      "               3 Dir(s)  232,656,605,184 bytes free\n"
     ]
    }
   ],
   "source": [
    "%cd D:\\Notas de Estudio\\Proyectos\\production_analysis__project\\production_analysis\\data\\processed\n",
    "!dir"
   ]
  },
  {
   "cell_type": "code",
   "execution_count": 4,
   "id": "678bb1b6",
   "metadata": {},
   "outputs": [
    {
     "data": {
      "text/html": [
       "<div>\n",
       "<style scoped>\n",
       "    .dataframe tbody tr th:only-of-type {\n",
       "        vertical-align: middle;\n",
       "    }\n",
       "\n",
       "    .dataframe tbody tr th {\n",
       "        vertical-align: top;\n",
       "    }\n",
       "\n",
       "    .dataframe thead th {\n",
       "        text-align: right;\n",
       "    }\n",
       "</style>\n",
       "<table border=\"1\" class=\"dataframe\">\n",
       "  <thead>\n",
       "    <tr style=\"text-align: right;\">\n",
       "      <th></th>\n",
       "      <th>FECHA</th>\n",
       "      <th>TURNO</th>\n",
       "      <th>GRUPO</th>\n",
       "      <th>MÁQ.</th>\n",
       "      <th>CODIGO</th>\n",
       "      <th>PRODUCCION (PZAS)</th>\n",
       "      <th>TOTAL KG</th>\n",
       "      <th>SCRAP</th>\n",
       "      <th>DIA</th>\n",
       "      <th>NOMBRE_DIA</th>\n",
       "    </tr>\n",
       "  </thead>\n",
       "  <tbody>\n",
       "    <tr>\n",
       "      <th>5381</th>\n",
       "      <td>2022-01-31</td>\n",
       "      <td>Noche</td>\n",
       "      <td>A</td>\n",
       "      <td>EB 121</td>\n",
       "      <td>IAT17X49K0F0T4-LB35</td>\n",
       "      <td>5</td>\n",
       "      <td>2555.800</td>\n",
       "      <td>43.65</td>\n",
       "      <td>31</td>\n",
       "      <td>Monday</td>\n",
       "    </tr>\n",
       "    <tr>\n",
       "      <th>5382</th>\n",
       "      <td>2022-01-31</td>\n",
       "      <td>Noche</td>\n",
       "      <td>A</td>\n",
       "      <td>EB-122</td>\n",
       "      <td>IPT18X40C0F0SO</td>\n",
       "      <td>12</td>\n",
       "      <td>190.380</td>\n",
       "      <td>9.30</td>\n",
       "      <td>31</td>\n",
       "      <td>Monday</td>\n",
       "    </tr>\n",
       "    <tr>\n",
       "      <th>5383</th>\n",
       "      <td>2022-01-31</td>\n",
       "      <td>Noche</td>\n",
       "      <td>A</td>\n",
       "      <td>EB-123</td>\n",
       "      <td>IPT18X30C0F0SO</td>\n",
       "      <td>7</td>\n",
       "      <td>103.402</td>\n",
       "      <td>0.00</td>\n",
       "      <td>31</td>\n",
       "      <td>Monday</td>\n",
       "    </tr>\n",
       "    <tr>\n",
       "      <th>5384</th>\n",
       "      <td>2022-01-31</td>\n",
       "      <td>Noche</td>\n",
       "      <td>A</td>\n",
       "      <td>EB-124</td>\n",
       "      <td>0</td>\n",
       "      <td>0</td>\n",
       "      <td>0.000</td>\n",
       "      <td>0.00</td>\n",
       "      <td>31</td>\n",
       "      <td>Monday</td>\n",
       "    </tr>\n",
       "    <tr>\n",
       "      <th>5385</th>\n",
       "      <td>2022-01-31</td>\n",
       "      <td>Noche</td>\n",
       "      <td>A</td>\n",
       "      <td>EB-125</td>\n",
       "      <td>0</td>\n",
       "      <td>0</td>\n",
       "      <td>0.000</td>\n",
       "      <td>0.00</td>\n",
       "      <td>31</td>\n",
       "      <td>Monday</td>\n",
       "    </tr>\n",
       "  </tbody>\n",
       "</table>\n",
       "</div>"
      ],
      "text/plain": [
       "           FECHA  TURNO GRUPO    MÁQ.               CODIGO  PRODUCCION (PZAS)  \\\n",
       "5381  2022-01-31  Noche     A  EB 121  IAT17X49K0F0T4-LB35                  5   \n",
       "5382  2022-01-31  Noche     A  EB-122       IPT18X40C0F0SO                 12   \n",
       "5383  2022-01-31  Noche     A  EB-123       IPT18X30C0F0SO                  7   \n",
       "5384  2022-01-31  Noche     A  EB-124                    0                  0   \n",
       "5385  2022-01-31  Noche     A  EB-125                    0                  0   \n",
       "\n",
       "      TOTAL KG  SCRAP  DIA NOMBRE_DIA  \n",
       "5381  2555.800  43.65   31     Monday  \n",
       "5382   190.380   9.30   31     Monday  \n",
       "5383   103.402   0.00   31     Monday  \n",
       "5384     0.000   0.00   31     Monday  \n",
       "5385     0.000   0.00   31     Monday  "
      ]
     },
     "execution_count": 4,
     "metadata": {},
     "output_type": "execute_result"
    }
   ],
   "source": [
    "df = pd.read_csv(\"data.csv\")\n",
    "df.tail()"
   ]
  },
  {
   "cell_type": "markdown",
   "id": "97696823",
   "metadata": {},
   "source": [
    "#### Just testing..."
   ]
  },
  {
   "cell_type": "code",
   "execution_count": 27,
   "id": "5662d3e5",
   "metadata": {},
   "outputs": [
    {
     "data": {
      "text/html": [
       "<div>\n",
       "<style scoped>\n",
       "    .dataframe tbody tr th:only-of-type {\n",
       "        vertical-align: middle;\n",
       "    }\n",
       "\n",
       "    .dataframe tbody tr th {\n",
       "        vertical-align: top;\n",
       "    }\n",
       "\n",
       "    .dataframe thead th {\n",
       "        text-align: right;\n",
       "    }\n",
       "</style>\n",
       "<table border=\"1\" class=\"dataframe\">\n",
       "  <thead>\n",
       "    <tr style=\"text-align: right;\">\n",
       "      <th></th>\n",
       "      <th>PRODUCCION (PZAS)</th>\n",
       "      <th>TOTAL KG</th>\n",
       "      <th>SCRAP</th>\n",
       "      <th>DIA</th>\n",
       "    </tr>\n",
       "    <tr>\n",
       "      <th>MÁQ.</th>\n",
       "      <th></th>\n",
       "      <th></th>\n",
       "      <th></th>\n",
       "      <th></th>\n",
       "    </tr>\n",
       "  </thead>\n",
       "  <tbody>\n",
       "    <tr>\n",
       "      <th>EB 120</th>\n",
       "      <td>1383</td>\n",
       "      <td>27474.398</td>\n",
       "      <td>2207.90</td>\n",
       "      <td>1400</td>\n",
       "    </tr>\n",
       "    <tr>\n",
       "      <th>EB 121</th>\n",
       "      <td>582</td>\n",
       "      <td>196686.935</td>\n",
       "      <td>4667.20</td>\n",
       "      <td>2119</td>\n",
       "    </tr>\n",
       "    <tr>\n",
       "      <th>EB G1</th>\n",
       "      <td>448</td>\n",
       "      <td>8089.308</td>\n",
       "      <td>608.15</td>\n",
       "      <td>1464</td>\n",
       "    </tr>\n",
       "    <tr>\n",
       "      <th>EB G2</th>\n",
       "      <td>564</td>\n",
       "      <td>16388.185</td>\n",
       "      <td>1485.21</td>\n",
       "      <td>1576</td>\n",
       "    </tr>\n",
       "    <tr>\n",
       "      <th>EB G3</th>\n",
       "      <td>437</td>\n",
       "      <td>9600.724</td>\n",
       "      <td>1062.65</td>\n",
       "      <td>1397</td>\n",
       "    </tr>\n",
       "  </tbody>\n",
       "</table>\n",
       "</div>"
      ],
      "text/plain": [
       "        PRODUCCION (PZAS)    TOTAL KG    SCRAP   DIA\n",
       "MÁQ.                                                \n",
       "EB 120               1383   27474.398  2207.90  1400\n",
       "EB 121                582  196686.935  4667.20  2119\n",
       "EB G1                 448    8089.308   608.15  1464\n",
       "EB G2                 564   16388.185  1485.21  1576\n",
       "EB G3                 437    9600.724  1062.65  1397"
      ]
     },
     "execution_count": 27,
     "metadata": {},
     "output_type": "execute_result"
    }
   ],
   "source": [
    "prod = df.groupby(['MÁQ.']).sum()\n",
    "prod.head()"
   ]
  },
  {
   "cell_type": "code",
   "execution_count": 31,
   "id": "9a4fd24d",
   "metadata": {},
   "outputs": [
    {
     "data": {
      "text/plain": [
       "27474.398000000005"
      ]
     },
     "execution_count": 31,
     "metadata": {},
     "output_type": "execute_result"
    }
   ],
   "source": [
    "prod.loc['EB 120']['TOTAL KG']"
   ]
  },
  {
   "cell_type": "code",
   "execution_count": 32,
   "id": "57209c7b",
   "metadata": {},
   "outputs": [
    {
     "data": {
      "text/plain": [
       "Index(['EB 120', 'EB 121', 'EB G1', 'EB G2', 'EB G3', 'EB G4', 'EB-026',\n",
       "       'EB-029', 'EB-032', 'EB-036', 'EB-037', 'EB-038', 'EB-043', 'EB-044',\n",
       "       'EB-045', 'EB-046', 'EB-047', 'EB-050', 'EB-051', 'EB-052', 'EB-053',\n",
       "       'EB-070', 'EB-071', 'EB-072', 'EB-073', 'EB-074', 'EB-075', 'EB-088',\n",
       "       'EB-090', 'EB-091', 'EB-092', 'EB-093', 'EB-094', 'EB-095', 'EB-096',\n",
       "       'EB-097', 'EB-098', 'EB-099', 'EB-101', 'EB-102', 'EB-103', 'EB-104',\n",
       "       'EB-105', 'EB-106', 'EB-107', 'EB-108', 'EB-109', 'EB-110', 'EB-111',\n",
       "       'EB-112', 'EB-114', 'EB-115', 'EB-116', 'EB-117', 'EB-118', 'EB-119',\n",
       "       'EB-122', 'EB-123', 'EB-124', 'EB-125', 'EB-17', 'EB-18'],\n",
       "      dtype='object', name='MÁQ.')"
      ]
     },
     "execution_count": 32,
     "metadata": {},
     "output_type": "execute_result"
    }
   ],
   "source": [
    "prod.index"
   ]
  },
  {
   "cell_type": "code",
   "execution_count": 93,
   "id": "6f6e9f6d",
   "metadata": {},
   "outputs": [
    {
     "data": {
      "text/html": [
       "<div>\n",
       "<style scoped>\n",
       "    .dataframe tbody tr th:only-of-type {\n",
       "        vertical-align: middle;\n",
       "    }\n",
       "\n",
       "    .dataframe tbody tr th {\n",
       "        vertical-align: top;\n",
       "    }\n",
       "\n",
       "    .dataframe thead th {\n",
       "        text-align: right;\n",
       "    }\n",
       "</style>\n",
       "<table border=\"1\" class=\"dataframe\">\n",
       "  <thead>\n",
       "    <tr style=\"text-align: right;\">\n",
       "      <th></th>\n",
       "      <th></th>\n",
       "      <th>PRODUCCION (PZAS)</th>\n",
       "      <th>TOTAL KG</th>\n",
       "      <th>SCRAP</th>\n",
       "    </tr>\n",
       "    <tr>\n",
       "      <th>DIA</th>\n",
       "      <th>MÁQ.</th>\n",
       "      <th></th>\n",
       "      <th></th>\n",
       "      <th></th>\n",
       "    </tr>\n",
       "  </thead>\n",
       "  <tbody>\n",
       "    <tr>\n",
       "      <th rowspan=\"5\" valign=\"top\">3</th>\n",
       "      <th>EB 120</th>\n",
       "      <td>56</td>\n",
       "      <td>535.92</td>\n",
       "      <td>310.0</td>\n",
       "    </tr>\n",
       "    <tr>\n",
       "      <th>EB 121</th>\n",
       "      <td>11</td>\n",
       "      <td>5773.26</td>\n",
       "      <td>211.0</td>\n",
       "    </tr>\n",
       "    <tr>\n",
       "      <th>EB G1</th>\n",
       "      <td>0</td>\n",
       "      <td>0.00</td>\n",
       "      <td>0.0</td>\n",
       "    </tr>\n",
       "    <tr>\n",
       "      <th>EB G2</th>\n",
       "      <td>0</td>\n",
       "      <td>0.00</td>\n",
       "      <td>0.0</td>\n",
       "    </tr>\n",
       "    <tr>\n",
       "      <th>EB G3</th>\n",
       "      <td>0</td>\n",
       "      <td>0.00</td>\n",
       "      <td>0.0</td>\n",
       "    </tr>\n",
       "  </tbody>\n",
       "</table>\n",
       "</div>"
      ],
      "text/plain": [
       "            PRODUCCION (PZAS)  TOTAL KG  SCRAP\n",
       "DIA MÁQ.                                      \n",
       "3   EB 120                 56    535.92  310.0\n",
       "    EB 121                 11   5773.26  211.0\n",
       "    EB G1                   0      0.00    0.0\n",
       "    EB G2                   0      0.00    0.0\n",
       "    EB G3                   0      0.00    0.0"
      ]
     },
     "execution_count": 93,
     "metadata": {},
     "output_type": "execute_result"
    }
   ],
   "source": [
    "days = df.groupby(['DIA','MÁQ.']).sum()\n",
    "days.head()\n"
   ]
  },
  {
   "cell_type": "code",
   "execution_count": 65,
   "id": "0835e93a",
   "metadata": {},
   "outputs": [
    {
     "data": {
      "text/plain": [
       "pandas.core.frame.DataFrame"
      ]
     },
     "execution_count": 65,
     "metadata": {},
     "output_type": "execute_result"
    }
   ],
   "source": [
    "type(days)"
   ]
  },
  {
   "cell_type": "code",
   "execution_count": 60,
   "id": "327dde34",
   "metadata": {},
   "outputs": [
    {
     "data": {
      "text/plain": [
       "Index([ (3, 'EB 120'),  (3, 'EB 121'),   (3, 'EB G1'),   (3, 'EB G2'),\n",
       "         (3, 'EB G3'),   (3, 'EB G4'),  (3, 'EB-026'),  (3, 'EB-029'),\n",
       "        (3, 'EB-032'),  (3, 'EB-036'),\n",
       "       ...\n",
       "       (31, 'EB-117'), (31, 'EB-118'), (31, 'EB-119'), (31, 'EB-122'),\n",
       "       (31, 'EB-123'), (31, 'EB-124'), (31, 'EB-125'),  (31, 'EB-17'),\n",
       "        (31, 'EB-18'),         'MÁQ.'],\n",
       "      dtype='object', length=1799)"
      ]
     },
     "execution_count": 60,
     "metadata": {},
     "output_type": "execute_result"
    }
   ],
   "source": [
    "days.index"
   ]
  },
  {
   "cell_type": "code",
   "execution_count": 95,
   "id": "e2c52f64",
   "metadata": {},
   "outputs": [
    {
     "data": {
      "text/plain": [
       "535.92"
      ]
     },
     "execution_count": 95,
     "metadata": {},
     "output_type": "execute_result"
    }
   ],
   "source": [
    "days.loc[[(3, 'EB 120')]]['TOTAL KG'].values[0]"
   ]
  },
  {
   "cell_type": "code",
   "execution_count": 103,
   "id": "946cde28",
   "metadata": {},
   "outputs": [
    {
     "name": "stdout",
     "output_type": "stream",
     "text": [
      "28\n"
     ]
    }
   ],
   "source": [
    "list_days=[]\n",
    "for i in range(1,32,1):\n",
    "    \n",
    "    try:\n",
    "        day = days.loc[[(i, 'EB 120')]]['TOTAL KG'].values[0]\n",
    "        #print(day)\n",
    "        if day > 0:\n",
    "            list_days.append(day)\n",
    "    except:\n",
    "        continue\n",
    "        \n",
    "print(len(list_days))\n",
    "\n",
    "        "
   ]
  },
  {
   "cell_type": "code",
   "execution_count": 107,
   "id": "c6bba0f7",
   "metadata": {},
   "outputs": [
    {
     "name": "stdout",
     "output_type": "stream",
     "text": [
      "981.2285000000002\n"
     ]
    }
   ],
   "source": [
    "prod_120 = prod.loc['EB 120']['TOTAL KG'] / len(list_days)\n",
    "print(prod_120)"
   ]
  },
  {
   "cell_type": "markdown",
   "id": "1a1d34d4",
   "metadata": {},
   "source": [
    "#### Finish testing"
   ]
  },
  {
   "cell_type": "code",
   "execution_count": 5,
   "id": "b37a7d0f",
   "metadata": {},
   "outputs": [
    {
     "data": {
      "text/html": [
       "<div>\n",
       "<style scoped>\n",
       "    .dataframe tbody tr th:only-of-type {\n",
       "        vertical-align: middle;\n",
       "    }\n",
       "\n",
       "    .dataframe tbody tr th {\n",
       "        vertical-align: top;\n",
       "    }\n",
       "\n",
       "    .dataframe thead th {\n",
       "        text-align: right;\n",
       "    }\n",
       "</style>\n",
       "<table border=\"1\" class=\"dataframe\">\n",
       "  <thead>\n",
       "    <tr style=\"text-align: right;\">\n",
       "      <th></th>\n",
       "      <th>FECHA</th>\n",
       "      <th>TURNO</th>\n",
       "      <th>GRUPO</th>\n",
       "      <th>MÁQ.</th>\n",
       "      <th>CODIGO</th>\n",
       "      <th>PRODUCCION (PZAS)</th>\n",
       "      <th>TOTAL KG</th>\n",
       "      <th>SCRAP</th>\n",
       "      <th>DIA</th>\n",
       "      <th>NOMBRE_DIA</th>\n",
       "    </tr>\n",
       "  </thead>\n",
       "  <tbody>\n",
       "    <tr>\n",
       "      <th>0</th>\n",
       "      <td>2022-01-03</td>\n",
       "      <td>Mañana</td>\n",
       "      <td>A</td>\n",
       "      <td>EB G1</td>\n",
       "      <td>0</td>\n",
       "      <td>0</td>\n",
       "      <td>0.0</td>\n",
       "      <td>0.0</td>\n",
       "      <td>3</td>\n",
       "      <td>Monday</td>\n",
       "    </tr>\n",
       "    <tr>\n",
       "      <th>1</th>\n",
       "      <td>2022-01-03</td>\n",
       "      <td>Mañana</td>\n",
       "      <td>A</td>\n",
       "      <td>EB G2</td>\n",
       "      <td>0</td>\n",
       "      <td>0</td>\n",
       "      <td>0.0</td>\n",
       "      <td>0.0</td>\n",
       "      <td>3</td>\n",
       "      <td>Monday</td>\n",
       "    </tr>\n",
       "    <tr>\n",
       "      <th>2</th>\n",
       "      <td>2022-01-03</td>\n",
       "      <td>Mañana</td>\n",
       "      <td>A</td>\n",
       "      <td>EB G3</td>\n",
       "      <td>0</td>\n",
       "      <td>0</td>\n",
       "      <td>0.0</td>\n",
       "      <td>0.0</td>\n",
       "      <td>3</td>\n",
       "      <td>Monday</td>\n",
       "    </tr>\n",
       "    <tr>\n",
       "      <th>3</th>\n",
       "      <td>2022-01-03</td>\n",
       "      <td>Mañana</td>\n",
       "      <td>A</td>\n",
       "      <td>EB G4</td>\n",
       "      <td>0</td>\n",
       "      <td>0</td>\n",
       "      <td>0.0</td>\n",
       "      <td>0.0</td>\n",
       "      <td>3</td>\n",
       "      <td>Monday</td>\n",
       "    </tr>\n",
       "    <tr>\n",
       "      <th>4</th>\n",
       "      <td>2022-01-03</td>\n",
       "      <td>Mañana</td>\n",
       "      <td>A</td>\n",
       "      <td>EB-17</td>\n",
       "      <td>0</td>\n",
       "      <td>0</td>\n",
       "      <td>0.0</td>\n",
       "      <td>0.0</td>\n",
       "      <td>3</td>\n",
       "      <td>Monday</td>\n",
       "    </tr>\n",
       "  </tbody>\n",
       "</table>\n",
       "</div>"
      ],
      "text/plain": [
       "        FECHA   TURNO GRUPO   MÁQ. CODIGO  PRODUCCION (PZAS)  TOTAL KG  SCRAP  \\\n",
       "0  2022-01-03  Mañana     A  EB G1      0                  0       0.0    0.0   \n",
       "1  2022-01-03  Mañana     A  EB G2      0                  0       0.0    0.0   \n",
       "2  2022-01-03  Mañana     A  EB G3      0                  0       0.0    0.0   \n",
       "3  2022-01-03  Mañana     A  EB G4      0                  0       0.0    0.0   \n",
       "4  2022-01-03  Mañana     A  EB-17      0                  0       0.0    0.0   \n",
       "\n",
       "   DIA NOMBRE_DIA  \n",
       "0    3     Monday  \n",
       "1    3     Monday  \n",
       "2    3     Monday  \n",
       "3    3     Monday  \n",
       "4    3     Monday  "
      ]
     },
     "execution_count": 5,
     "metadata": {},
     "output_type": "execute_result"
    }
   ],
   "source": [
    "# obtaining indexs\n",
    "df.head()"
   ]
  },
  {
   "cell_type": "code",
   "execution_count": 6,
   "id": "c910a37b",
   "metadata": {},
   "outputs": [
    {
     "data": {
      "text/html": [
       "<div>\n",
       "<style scoped>\n",
       "    .dataframe tbody tr th:only-of-type {\n",
       "        vertical-align: middle;\n",
       "    }\n",
       "\n",
       "    .dataframe tbody tr th {\n",
       "        vertical-align: top;\n",
       "    }\n",
       "\n",
       "    .dataframe thead th {\n",
       "        text-align: right;\n",
       "    }\n",
       "</style>\n",
       "<table border=\"1\" class=\"dataframe\">\n",
       "  <thead>\n",
       "    <tr style=\"text-align: right;\">\n",
       "      <th></th>\n",
       "      <th>PRODUCCION (PZAS)</th>\n",
       "      <th>TOTAL KG</th>\n",
       "      <th>SCRAP</th>\n",
       "      <th>DIA</th>\n",
       "    </tr>\n",
       "    <tr>\n",
       "      <th>MÁQ.</th>\n",
       "      <th></th>\n",
       "      <th></th>\n",
       "      <th></th>\n",
       "      <th></th>\n",
       "    </tr>\n",
       "  </thead>\n",
       "  <tbody>\n",
       "    <tr>\n",
       "      <th>EB 120</th>\n",
       "      <td>1383</td>\n",
       "      <td>27474.398</td>\n",
       "      <td>2207.90</td>\n",
       "      <td>1400</td>\n",
       "    </tr>\n",
       "    <tr>\n",
       "      <th>EB 121</th>\n",
       "      <td>582</td>\n",
       "      <td>196686.935</td>\n",
       "      <td>4667.20</td>\n",
       "      <td>2119</td>\n",
       "    </tr>\n",
       "    <tr>\n",
       "      <th>EB G1</th>\n",
       "      <td>448</td>\n",
       "      <td>8089.308</td>\n",
       "      <td>608.15</td>\n",
       "      <td>1464</td>\n",
       "    </tr>\n",
       "    <tr>\n",
       "      <th>EB G2</th>\n",
       "      <td>564</td>\n",
       "      <td>16388.185</td>\n",
       "      <td>1485.21</td>\n",
       "      <td>1576</td>\n",
       "    </tr>\n",
       "    <tr>\n",
       "      <th>EB G3</th>\n",
       "      <td>437</td>\n",
       "      <td>9600.724</td>\n",
       "      <td>1062.65</td>\n",
       "      <td>1397</td>\n",
       "    </tr>\n",
       "  </tbody>\n",
       "</table>\n",
       "</div>"
      ],
      "text/plain": [
       "        PRODUCCION (PZAS)    TOTAL KG    SCRAP   DIA\n",
       "MÁQ.                                                \n",
       "EB 120               1383   27474.398  2207.90  1400\n",
       "EB 121                582  196686.935  4667.20  2119\n",
       "EB G1                 448    8089.308   608.15  1464\n",
       "EB G2                 564   16388.185  1485.21  1576\n",
       "EB G3                 437    9600.724  1062.65  1397"
      ]
     },
     "execution_count": 6,
     "metadata": {},
     "output_type": "execute_result"
    }
   ],
   "source": [
    "df_prod = df.groupby(['MÁQ.']).sum()\n",
    "df_prod.head()"
   ]
  },
  {
   "cell_type": "code",
   "execution_count": 7,
   "id": "cf7addb1",
   "metadata": {},
   "outputs": [
    {
     "data": {
      "text/plain": [
       "Index(['EB 120', 'EB 121', 'EB G1', 'EB G2', 'EB G3', 'EB G4', 'EB-026',\n",
       "       'EB-029', 'EB-032', 'EB-036', 'EB-037', 'EB-038', 'EB-043', 'EB-044',\n",
       "       'EB-045', 'EB-046', 'EB-047', 'EB-050', 'EB-051', 'EB-052', 'EB-053',\n",
       "       'EB-070', 'EB-071', 'EB-072', 'EB-073', 'EB-074', 'EB-075', 'EB-088',\n",
       "       'EB-090', 'EB-091', 'EB-092', 'EB-093', 'EB-094', 'EB-095', 'EB-096',\n",
       "       'EB-097', 'EB-098', 'EB-099', 'EB-101', 'EB-102', 'EB-103', 'EB-104',\n",
       "       'EB-105', 'EB-106', 'EB-107', 'EB-108', 'EB-109', 'EB-110', 'EB-111',\n",
       "       'EB-112', 'EB-114', 'EB-115', 'EB-116', 'EB-117', 'EB-118', 'EB-119',\n",
       "       'EB-122', 'EB-123', 'EB-124', 'EB-125', 'EB-17', 'EB-18'],\n",
       "      dtype='object', name='MÁQ.')"
      ]
     },
     "execution_count": 7,
     "metadata": {},
     "output_type": "execute_result"
    }
   ],
   "source": [
    "df_prod.index # this is the index for the new data frame"
   ]
  },
  {
   "cell_type": "code",
   "execution_count": 8,
   "id": "cb4b27a8",
   "metadata": {},
   "outputs": [
    {
     "name": "stdout",
     "output_type": "stream",
     "text": [
      "62\n"
     ]
    }
   ],
   "source": [
    "print(len(df_prod.index))"
   ]
  },
  {
   "cell_type": "code",
   "execution_count": 9,
   "id": "2e721913",
   "metadata": {},
   "outputs": [
    {
     "name": "stdout",
     "output_type": "stream",
     "text": [
      "62\n"
     ]
    }
   ],
   "source": [
    "#obtaining produciton of the month\n",
    "prod_month=[]\n",
    "for i in range(0,len(df_prod.index)):\n",
    "    x =df_prod.loc[df_prod.index[i]]['TOTAL KG']\n",
    "    prod_month.append(x)\n",
    "\n",
    "print(len(prod_month))\n",
    "                               \n"
   ]
  },
  {
   "cell_type": "code",
   "execution_count": 10,
   "id": "f93e0dd0",
   "metadata": {},
   "outputs": [
    {
     "data": {
      "text/html": [
       "<div>\n",
       "<style scoped>\n",
       "    .dataframe tbody tr th:only-of-type {\n",
       "        vertical-align: middle;\n",
       "    }\n",
       "\n",
       "    .dataframe tbody tr th {\n",
       "        vertical-align: top;\n",
       "    }\n",
       "\n",
       "    .dataframe thead th {\n",
       "        text-align: right;\n",
       "    }\n",
       "</style>\n",
       "<table border=\"1\" class=\"dataframe\">\n",
       "  <thead>\n",
       "    <tr style=\"text-align: right;\">\n",
       "      <th></th>\n",
       "      <th></th>\n",
       "      <th>PRODUCCION (PZAS)</th>\n",
       "      <th>TOTAL KG</th>\n",
       "      <th>SCRAP</th>\n",
       "    </tr>\n",
       "    <tr>\n",
       "      <th>DIA</th>\n",
       "      <th>MÁQ.</th>\n",
       "      <th></th>\n",
       "      <th></th>\n",
       "      <th></th>\n",
       "    </tr>\n",
       "  </thead>\n",
       "  <tbody>\n",
       "    <tr>\n",
       "      <th rowspan=\"5\" valign=\"top\">3</th>\n",
       "      <th>EB 120</th>\n",
       "      <td>56</td>\n",
       "      <td>535.92</td>\n",
       "      <td>310.0</td>\n",
       "    </tr>\n",
       "    <tr>\n",
       "      <th>EB 121</th>\n",
       "      <td>11</td>\n",
       "      <td>5773.26</td>\n",
       "      <td>211.0</td>\n",
       "    </tr>\n",
       "    <tr>\n",
       "      <th>EB G1</th>\n",
       "      <td>0</td>\n",
       "      <td>0.00</td>\n",
       "      <td>0.0</td>\n",
       "    </tr>\n",
       "    <tr>\n",
       "      <th>EB G2</th>\n",
       "      <td>0</td>\n",
       "      <td>0.00</td>\n",
       "      <td>0.0</td>\n",
       "    </tr>\n",
       "    <tr>\n",
       "      <th>EB G3</th>\n",
       "      <td>0</td>\n",
       "      <td>0.00</td>\n",
       "      <td>0.0</td>\n",
       "    </tr>\n",
       "  </tbody>\n",
       "</table>\n",
       "</div>"
      ],
      "text/plain": [
       "            PRODUCCION (PZAS)  TOTAL KG  SCRAP\n",
       "DIA MÁQ.                                      \n",
       "3   EB 120                 56    535.92  310.0\n",
       "    EB 121                 11   5773.26  211.0\n",
       "    EB G1                   0      0.00    0.0\n",
       "    EB G2                   0      0.00    0.0\n",
       "    EB G3                   0      0.00    0.0"
      ]
     },
     "execution_count": 10,
     "metadata": {},
     "output_type": "execute_result"
    }
   ],
   "source": [
    "#obtaining days of work\n",
    "\n",
    "df_days = df.groupby(by=['DIA','MÁQ.']).sum()\n",
    "df_days.head()"
   ]
  },
  {
   "cell_type": "code",
   "execution_count": 11,
   "id": "4aa769e3",
   "metadata": {},
   "outputs": [
    {
     "data": {
      "text/plain": [
       "MultiIndex([( 3, 'EB 120'),\n",
       "            ( 3, 'EB 121'),\n",
       "            ( 3,  'EB G1'),\n",
       "            ( 3,  'EB G2'),\n",
       "            ( 3,  'EB G3'),\n",
       "            ( 3,  'EB G4'),\n",
       "            ( 3, 'EB-026'),\n",
       "            ( 3, 'EB-029'),\n",
       "            ( 3, 'EB-032'),\n",
       "            ( 3, 'EB-036'),\n",
       "            ...\n",
       "            (31, 'EB-116'),\n",
       "            (31, 'EB-117'),\n",
       "            (31, 'EB-118'),\n",
       "            (31, 'EB-119'),\n",
       "            (31, 'EB-122'),\n",
       "            (31, 'EB-123'),\n",
       "            (31, 'EB-124'),\n",
       "            (31, 'EB-125'),\n",
       "            (31,  'EB-17'),\n",
       "            (31,  'EB-18')],\n",
       "           names=['DIA', 'MÁQ.'], length=1798)"
      ]
     },
     "execution_count": 11,
     "metadata": {},
     "output_type": "execute_result"
    }
   ],
   "source": [
    "df_days.index"
   ]
  },
  {
   "cell_type": "code",
   "execution_count": 12,
   "id": "9485d889",
   "metadata": {},
   "outputs": [
    {
     "data": {
      "text/plain": [
       "535.92"
      ]
     },
     "execution_count": 12,
     "metadata": {},
     "output_type": "execute_result"
    }
   ],
   "source": [
    "df_days.loc[(3, 'EB 120')]['TOTAL KG']"
   ]
  },
  {
   "cell_type": "code",
   "execution_count": 13,
   "id": "d1ec2060",
   "metadata": {},
   "outputs": [
    {
     "name": "stdout",
     "output_type": "stream",
     "text": [
      "[28, 27, 16, 24, 17, 19, 0, 7, 22, 22, 0, 0, 0, 0, 0, 0, 0, 22, 22, 22, 29, 25, 0, 0, 0, 13, 6, 0, 25, 25, 19, 0, 0, 0, 0, 0, 0, 23, 21, 25, 24, 24, 25, 22, 24, 21, 0, 0, 0, 0, 0, 0, 0, 29, 27, 24, 26, 26, 21, 29, 24, 0]\n"
     ]
    }
   ],
   "source": [
    "day_list = []\n",
    "for i in range(0,len(df_prod.index)):\n",
    "    d = 0\n",
    "    for u in range(1,32):\n",
    "        try:\n",
    "            x =df_days.loc[(u, df_prod.index[i])]['TOTAL KG']            \n",
    "            if x > 0:\n",
    "                d = d+1   \n",
    "        except:\n",
    "            continue\n",
    "    day_list.append(d)\n",
    "print(day_list)"
   ]
  },
  {
   "cell_type": "code",
   "execution_count": 14,
   "id": "295720c1",
   "metadata": {},
   "outputs": [
    {
     "name": "stdout",
     "output_type": "stream",
     "text": [
      "62\n"
     ]
    }
   ],
   "source": [
    "print(len(day_list))"
   ]
  },
  {
   "cell_type": "code",
   "execution_count": 15,
   "id": "81b4fab3",
   "metadata": {},
   "outputs": [
    {
     "data": {
      "text/html": [
       "<div>\n",
       "<style scoped>\n",
       "    .dataframe tbody tr th:only-of-type {\n",
       "        vertical-align: middle;\n",
       "    }\n",
       "\n",
       "    .dataframe tbody tr th {\n",
       "        vertical-align: top;\n",
       "    }\n",
       "\n",
       "    .dataframe thead th {\n",
       "        text-align: right;\n",
       "    }\n",
       "</style>\n",
       "<table border=\"1\" class=\"dataframe\">\n",
       "  <thead>\n",
       "    <tr style=\"text-align: right;\">\n",
       "      <th></th>\n",
       "      <th>PRODUCCION</th>\n",
       "      <th>DIAS</th>\n",
       "    </tr>\n",
       "    <tr>\n",
       "      <th>MÁQ.</th>\n",
       "      <th></th>\n",
       "      <th></th>\n",
       "    </tr>\n",
       "  </thead>\n",
       "  <tbody>\n",
       "    <tr>\n",
       "      <th>EB 120</th>\n",
       "      <td>27474.398</td>\n",
       "      <td>28</td>\n",
       "    </tr>\n",
       "    <tr>\n",
       "      <th>EB 121</th>\n",
       "      <td>196686.935</td>\n",
       "      <td>27</td>\n",
       "    </tr>\n",
       "    <tr>\n",
       "      <th>EB G1</th>\n",
       "      <td>8089.308</td>\n",
       "      <td>16</td>\n",
       "    </tr>\n",
       "    <tr>\n",
       "      <th>EB G2</th>\n",
       "      <td>16388.185</td>\n",
       "      <td>24</td>\n",
       "    </tr>\n",
       "    <tr>\n",
       "      <th>EB G3</th>\n",
       "      <td>9600.724</td>\n",
       "      <td>17</td>\n",
       "    </tr>\n",
       "    <tr>\n",
       "      <th>...</th>\n",
       "      <td>...</td>\n",
       "      <td>...</td>\n",
       "    </tr>\n",
       "    <tr>\n",
       "      <th>EB-123</th>\n",
       "      <td>8230.772</td>\n",
       "      <td>26</td>\n",
       "    </tr>\n",
       "    <tr>\n",
       "      <th>EB-124</th>\n",
       "      <td>117087.960</td>\n",
       "      <td>21</td>\n",
       "    </tr>\n",
       "    <tr>\n",
       "      <th>EB-125</th>\n",
       "      <td>134001.712</td>\n",
       "      <td>29</td>\n",
       "    </tr>\n",
       "    <tr>\n",
       "      <th>EB-17</th>\n",
       "      <td>59381.760</td>\n",
       "      <td>24</td>\n",
       "    </tr>\n",
       "    <tr>\n",
       "      <th>EB-18</th>\n",
       "      <td>0.000</td>\n",
       "      <td>0</td>\n",
       "    </tr>\n",
       "  </tbody>\n",
       "</table>\n",
       "<p>62 rows × 2 columns</p>\n",
       "</div>"
      ],
      "text/plain": [
       "        PRODUCCION  DIAS\n",
       "MÁQ.                    \n",
       "EB 120   27474.398    28\n",
       "EB 121  196686.935    27\n",
       "EB G1     8089.308    16\n",
       "EB G2    16388.185    24\n",
       "EB G3     9600.724    17\n",
       "...            ...   ...\n",
       "EB-123    8230.772    26\n",
       "EB-124  117087.960    21\n",
       "EB-125  134001.712    29\n",
       "EB-17    59381.760    24\n",
       "EB-18        0.000     0\n",
       "\n",
       "[62 rows x 2 columns]"
      ]
     },
     "execution_count": 15,
     "metadata": {},
     "output_type": "execute_result"
    }
   ],
   "source": [
    "#creatin the new data frame\n",
    "\n",
    "data = { 'PRODUCCION': prod_month, 'DIAS': day_list}\n",
    "df = pd.DataFrame(data =data, index = df_prod.index)\n",
    "df"
   ]
  },
  {
   "cell_type": "code",
   "execution_count": 16,
   "id": "30359264",
   "metadata": {},
   "outputs": [
    {
     "data": {
      "text/plain": [
       "MÁQ.\n",
       "EB 120     27474.398\n",
       "EB 121    196686.935\n",
       "EB G1       8089.308\n",
       "EB G2      16388.185\n",
       "EB G3       9600.724\n",
       "             ...    \n",
       "EB-123      8230.772\n",
       "EB-124    117087.960\n",
       "EB-125    134001.712\n",
       "EB-17      59381.760\n",
       "EB-18          0.000\n",
       "Name: PRODUCCION, Length: 62, dtype: float64"
      ]
     },
     "execution_count": 16,
     "metadata": {},
     "output_type": "execute_result"
    }
   ],
   "source": [
    "df['PRODUCCION']"
   ]
  },
  {
   "cell_type": "code",
   "execution_count": 17,
   "id": "e66d494d",
   "metadata": {},
   "outputs": [
    {
     "data": {
      "text/html": [
       "<div>\n",
       "<style scoped>\n",
       "    .dataframe tbody tr th:only-of-type {\n",
       "        vertical-align: middle;\n",
       "    }\n",
       "\n",
       "    .dataframe tbody tr th {\n",
       "        vertical-align: top;\n",
       "    }\n",
       "\n",
       "    .dataframe thead th {\n",
       "        text-align: right;\n",
       "    }\n",
       "</style>\n",
       "<table border=\"1\" class=\"dataframe\">\n",
       "  <thead>\n",
       "    <tr style=\"text-align: right;\">\n",
       "      <th></th>\n",
       "      <th>PRODUCCION</th>\n",
       "      <th>DIAS</th>\n",
       "      <th>PRODUCCION X DIA</th>\n",
       "    </tr>\n",
       "    <tr>\n",
       "      <th>MÁQ.</th>\n",
       "      <th></th>\n",
       "      <th></th>\n",
       "      <th></th>\n",
       "    </tr>\n",
       "  </thead>\n",
       "  <tbody>\n",
       "    <tr>\n",
       "      <th>EB 120</th>\n",
       "      <td>27474.398</td>\n",
       "      <td>28</td>\n",
       "      <td>981.0</td>\n",
       "    </tr>\n",
       "    <tr>\n",
       "      <th>EB 121</th>\n",
       "      <td>196686.935</td>\n",
       "      <td>27</td>\n",
       "      <td>7285.0</td>\n",
       "    </tr>\n",
       "    <tr>\n",
       "      <th>EB G1</th>\n",
       "      <td>8089.308</td>\n",
       "      <td>16</td>\n",
       "      <td>506.0</td>\n",
       "    </tr>\n",
       "    <tr>\n",
       "      <th>EB G2</th>\n",
       "      <td>16388.185</td>\n",
       "      <td>24</td>\n",
       "      <td>683.0</td>\n",
       "    </tr>\n",
       "    <tr>\n",
       "      <th>EB G3</th>\n",
       "      <td>9600.724</td>\n",
       "      <td>17</td>\n",
       "      <td>565.0</td>\n",
       "    </tr>\n",
       "    <tr>\n",
       "      <th>...</th>\n",
       "      <td>...</td>\n",
       "      <td>...</td>\n",
       "      <td>...</td>\n",
       "    </tr>\n",
       "    <tr>\n",
       "      <th>EB-123</th>\n",
       "      <td>8230.772</td>\n",
       "      <td>26</td>\n",
       "      <td>317.0</td>\n",
       "    </tr>\n",
       "    <tr>\n",
       "      <th>EB-124</th>\n",
       "      <td>117087.960</td>\n",
       "      <td>21</td>\n",
       "      <td>5576.0</td>\n",
       "    </tr>\n",
       "    <tr>\n",
       "      <th>EB-125</th>\n",
       "      <td>134001.712</td>\n",
       "      <td>29</td>\n",
       "      <td>4621.0</td>\n",
       "    </tr>\n",
       "    <tr>\n",
       "      <th>EB-17</th>\n",
       "      <td>59381.760</td>\n",
       "      <td>24</td>\n",
       "      <td>2474.0</td>\n",
       "    </tr>\n",
       "    <tr>\n",
       "      <th>EB-18</th>\n",
       "      <td>0.000</td>\n",
       "      <td>0</td>\n",
       "      <td>NaN</td>\n",
       "    </tr>\n",
       "  </tbody>\n",
       "</table>\n",
       "<p>62 rows × 3 columns</p>\n",
       "</div>"
      ],
      "text/plain": [
       "        PRODUCCION  DIAS  PRODUCCION X DIA\n",
       "MÁQ.                                      \n",
       "EB 120   27474.398    28             981.0\n",
       "EB 121  196686.935    27            7285.0\n",
       "EB G1     8089.308    16             506.0\n",
       "EB G2    16388.185    24             683.0\n",
       "EB G3     9600.724    17             565.0\n",
       "...            ...   ...               ...\n",
       "EB-123    8230.772    26             317.0\n",
       "EB-124  117087.960    21            5576.0\n",
       "EB-125  134001.712    29            4621.0\n",
       "EB-17    59381.760    24            2474.0\n",
       "EB-18        0.000     0               NaN\n",
       "\n",
       "[62 rows x 3 columns]"
      ]
     },
     "execution_count": 17,
     "metadata": {},
     "output_type": "execute_result"
    }
   ],
   "source": [
    "df['PRODUCCION X DIA'] = df['PRODUCCION'] / df['DIAS']\n",
    "df['PRODUCCION X DIA'] = df['PRODUCCION X DIA'].round(decimals = 0)\n",
    "df"
   ]
  },
  {
   "cell_type": "code",
   "execution_count": 18,
   "id": "5db4d497",
   "metadata": {},
   "outputs": [],
   "source": [
    "df.to_excel(\"prod_per_day.xlsx\")"
   ]
  },
  {
   "cell_type": "code",
   "execution_count": null,
   "id": "cd2dbe2e",
   "metadata": {},
   "outputs": [],
   "source": []
  }
 ],
 "metadata": {
  "kernelspec": {
   "display_name": "Python 3 (ipykernel)",
   "language": "python",
   "name": "python3"
  },
  "language_info": {
   "codemirror_mode": {
    "name": "ipython",
    "version": 3
   },
   "file_extension": ".py",
   "mimetype": "text/x-python",
   "name": "python",
   "nbconvert_exporter": "python",
   "pygments_lexer": "ipython3",
   "version": "3.9.9"
  }
 },
 "nbformat": 4,
 "nbformat_minor": 5
}
